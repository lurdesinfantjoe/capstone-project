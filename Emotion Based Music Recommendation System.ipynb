{
 "cells": [
  {
   "cell_type": "markdown",
   "id": "d182a721",
   "metadata": {},
   "source": [
    "# Importing modules"
   ]
  },
  {
   "cell_type": "code",
   "execution_count": 1,
   "id": "2934afe0",
   "metadata": {},
   "outputs": [
    {
     "name": "stderr",
     "output_type": "stream",
     "text": [
      "2022-07-24 15:27:27.719 INFO    numexpr.utils: NumExpr defaulting to 8 threads.\n"
     ]
    }
   ],
   "source": [
    "import numpy as np\n",
    "import streamlit as st\n",
    "import pandas as pd\n",
    "import cv2\n",
    "from collections import Counter\n",
    "from keras.models import Sequential\n",
    "from keras.layers import Dense, Dropout, Flatten\n",
    "from keras.layers import Conv2D\n",
    "from keras.layers import MaxPooling2D\n",
    "import seaborn as sns\n",
    "import matplotlib.pyplot as plt"
   ]
  },
  {
   "cell_type": "markdown",
   "id": "6f8dfab5",
   "metadata": {},
   "source": [
    "# Read csv file containing data."
   ]
  },
  {
   "cell_type": "code",
   "execution_count": 2,
   "id": "483c679b",
   "metadata": {},
   "outputs": [],
   "source": [
    "df = pd.read_csv('muse_v3.csv')"
   ]
  },
  {
   "cell_type": "code",
   "execution_count": 3,
   "id": "4cdb03f7",
   "metadata": {
    "scrolled": true
   },
   "outputs": [
    {
     "data": {
      "text/plain": [
       "lastfm_url                    0\n",
       "track                         0\n",
       "artist                        0\n",
       "seeds                         0\n",
       "number_of_emotion_tags        0\n",
       "valence_tags                  0\n",
       "arousal_tags                  0\n",
       "dominance_tags                0\n",
       "mbid                      28784\n",
       "spotify_id                28371\n",
       "genre                      6639\n",
       "dtype: int64"
      ]
     },
     "execution_count": 3,
     "metadata": {},
     "output_type": "execute_result"
    }
   ],
   "source": [
    "df.isnull().sum()"
   ]
  },
  {
   "cell_type": "code",
   "execution_count": 10,
   "id": "773c8147",
   "metadata": {},
   "outputs": [
    {
     "data": {
      "text/html": [
       "<div>\n",
       "<style scoped>\n",
       "    .dataframe tbody tr th:only-of-type {\n",
       "        vertical-align: middle;\n",
       "    }\n",
       "\n",
       "    .dataframe tbody tr th {\n",
       "        vertical-align: top;\n",
       "    }\n",
       "\n",
       "    .dataframe thead th {\n",
       "        text-align: right;\n",
       "    }\n",
       "</style>\n",
       "<table border=\"1\" class=\"dataframe\">\n",
       "  <thead>\n",
       "    <tr style=\"text-align: right;\">\n",
       "      <th></th>\n",
       "      <th>lastfm_url</th>\n",
       "      <th>track</th>\n",
       "      <th>artist</th>\n",
       "      <th>seeds</th>\n",
       "      <th>number_of_emotion_tags</th>\n",
       "      <th>valence_tags</th>\n",
       "      <th>arousal_tags</th>\n",
       "      <th>dominance_tags</th>\n",
       "      <th>mbid</th>\n",
       "      <th>spotify_id</th>\n",
       "      <th>genre</th>\n",
       "    </tr>\n",
       "  </thead>\n",
       "  <tbody>\n",
       "    <tr>\n",
       "      <th>0</th>\n",
       "      <td>https://www.last.fm/music/eminem/_/%2527till%2...</td>\n",
       "      <td>'Till I Collapse</td>\n",
       "      <td>Eminem</td>\n",
       "      <td>['aggressive']</td>\n",
       "      <td>6</td>\n",
       "      <td>4.550000</td>\n",
       "      <td>5.273125</td>\n",
       "      <td>5.690625</td>\n",
       "      <td>cab93def-26c5-4fb0-bedd-26ec4c1619e1</td>\n",
       "      <td>4xkOaSrkexMciUUogZKVTS</td>\n",
       "      <td>rap</td>\n",
       "    </tr>\n",
       "    <tr>\n",
       "      <th>1</th>\n",
       "      <td>https://www.last.fm/music/metallica/_/st.%2banger</td>\n",
       "      <td>St. Anger</td>\n",
       "      <td>Metallica</td>\n",
       "      <td>['aggressive']</td>\n",
       "      <td>8</td>\n",
       "      <td>3.710000</td>\n",
       "      <td>5.833000</td>\n",
       "      <td>5.427250</td>\n",
       "      <td>727a2529-7ee8-4860-aef6-7959884895cb</td>\n",
       "      <td>3fOc9x06lKJBhz435mInlH</td>\n",
       "      <td>metal</td>\n",
       "    </tr>\n",
       "    <tr>\n",
       "      <th>2</th>\n",
       "      <td>https://www.last.fm/music/rick%2bross/_/speedi...</td>\n",
       "      <td>Speedin'</td>\n",
       "      <td>Rick Ross</td>\n",
       "      <td>['aggressive']</td>\n",
       "      <td>1</td>\n",
       "      <td>3.080000</td>\n",
       "      <td>5.870000</td>\n",
       "      <td>5.490000</td>\n",
       "      <td>NaN</td>\n",
       "      <td>3Y96xd4Ce0J47dcalLrEC8</td>\n",
       "      <td>rap</td>\n",
       "    </tr>\n",
       "    <tr>\n",
       "      <th>3</th>\n",
       "      <td>https://www.last.fm/music/m.i.a./_/bamboo%2bbanga</td>\n",
       "      <td>Bamboo Banga</td>\n",
       "      <td>M.I.A.</td>\n",
       "      <td>['aggressive', 'fun', 'sexy', 'energetic']</td>\n",
       "      <td>13</td>\n",
       "      <td>6.555071</td>\n",
       "      <td>5.537214</td>\n",
       "      <td>5.691357</td>\n",
       "      <td>99dd2c8c-e7c1-413e-8ea4-4497a00ffa18</td>\n",
       "      <td>6tqFC1DIOphJkCwrjVzPmg</td>\n",
       "      <td>hip-hop</td>\n",
       "    </tr>\n",
       "    <tr>\n",
       "      <th>4</th>\n",
       "      <td>https://www.last.fm/music/dope/_/die%2bmf%2bdie</td>\n",
       "      <td>Die MF Die</td>\n",
       "      <td>Dope</td>\n",
       "      <td>['aggressive']</td>\n",
       "      <td>7</td>\n",
       "      <td>3.771176</td>\n",
       "      <td>5.348235</td>\n",
       "      <td>5.441765</td>\n",
       "      <td>b9eb3484-5e0e-4690-ab5a-ca91937032a5</td>\n",
       "      <td>5bU4KX47KqtDKKaLM4QCzh</td>\n",
       "      <td>metal</td>\n",
       "    </tr>\n",
       "    <tr>\n",
       "      <th>...</th>\n",
       "      <td>...</td>\n",
       "      <td>...</td>\n",
       "      <td>...</td>\n",
       "      <td>...</td>\n",
       "      <td>...</td>\n",
       "      <td>...</td>\n",
       "      <td>...</td>\n",
       "      <td>...</td>\n",
       "      <td>...</td>\n",
       "      <td>...</td>\n",
       "      <td>...</td>\n",
       "    </tr>\n",
       "    <tr>\n",
       "      <th>89996</th>\n",
       "      <td>https://www.last.fm/music/gaby%2bhoffmann%2b%2...</td>\n",
       "      <td>Battle</td>\n",
       "      <td>Gaby Hoffmann &amp; Jay Duplass</td>\n",
       "      <td>['transparent']</td>\n",
       "      <td>1</td>\n",
       "      <td>5.370000</td>\n",
       "      <td>3.450000</td>\n",
       "      <td>5.330000</td>\n",
       "      <td>NaN</td>\n",
       "      <td>NaN</td>\n",
       "      <td>indie</td>\n",
       "    </tr>\n",
       "    <tr>\n",
       "      <th>89997</th>\n",
       "      <td>https://www.last.fm/music/omar%2brodriguez-lop...</td>\n",
       "      <td>Hands Tied to the Roots of a Hemorrhage</td>\n",
       "      <td>Omar Rodriguez-Lopez</td>\n",
       "      <td>['transparent']</td>\n",
       "      <td>4</td>\n",
       "      <td>5.797887</td>\n",
       "      <td>4.132254</td>\n",
       "      <td>5.570563</td>\n",
       "      <td>NaN</td>\n",
       "      <td>NaN</td>\n",
       "      <td>progressive rock</td>\n",
       "    </tr>\n",
       "    <tr>\n",
       "      <th>89998</th>\n",
       "      <td>https://www.last.fm/music/ace%2bwhite/_/crookf...</td>\n",
       "      <td>Crookfield Zoo</td>\n",
       "      <td>Ace White</td>\n",
       "      <td>['transparent']</td>\n",
       "      <td>1</td>\n",
       "      <td>5.370000</td>\n",
       "      <td>3.450000</td>\n",
       "      <td>5.330000</td>\n",
       "      <td>NaN</td>\n",
       "      <td>NaN</td>\n",
       "      <td>indie</td>\n",
       "    </tr>\n",
       "    <tr>\n",
       "      <th>89999</th>\n",
       "      <td>https://www.last.fm/music/second%2bchyld/_/tra...</td>\n",
       "      <td>Transparent (Full Version)</td>\n",
       "      <td>Second Chyld</td>\n",
       "      <td>['transparent']</td>\n",
       "      <td>1</td>\n",
       "      <td>5.370000</td>\n",
       "      <td>3.450000</td>\n",
       "      <td>5.330000</td>\n",
       "      <td>NaN</td>\n",
       "      <td>NaN</td>\n",
       "      <td>indie</td>\n",
       "    </tr>\n",
       "    <tr>\n",
       "      <th>90000</th>\n",
       "      <td>https://www.last.fm/music/message%2bto%2bbears...</td>\n",
       "      <td>Unfold</td>\n",
       "      <td>Message To Bears</td>\n",
       "      <td>['translucent']</td>\n",
       "      <td>2</td>\n",
       "      <td>3.340000</td>\n",
       "      <td>1.405000</td>\n",
       "      <td>3.500000</td>\n",
       "      <td>247179b0-af1f-4c2b-b4fe-751070d1c0cc</td>\n",
       "      <td>14BYEOeRb3jzglJmKX8eM2</td>\n",
       "      <td>ambient</td>\n",
       "    </tr>\n",
       "  </tbody>\n",
       "</table>\n",
       "<p>90001 rows × 11 columns</p>\n",
       "</div>"
      ],
      "text/plain": [
       "                                              lastfm_url  \\\n",
       "0      https://www.last.fm/music/eminem/_/%2527till%2...   \n",
       "1      https://www.last.fm/music/metallica/_/st.%2banger   \n",
       "2      https://www.last.fm/music/rick%2bross/_/speedi...   \n",
       "3      https://www.last.fm/music/m.i.a./_/bamboo%2bbanga   \n",
       "4        https://www.last.fm/music/dope/_/die%2bmf%2bdie   \n",
       "...                                                  ...   \n",
       "89996  https://www.last.fm/music/gaby%2bhoffmann%2b%2...   \n",
       "89997  https://www.last.fm/music/omar%2brodriguez-lop...   \n",
       "89998  https://www.last.fm/music/ace%2bwhite/_/crookf...   \n",
       "89999  https://www.last.fm/music/second%2bchyld/_/tra...   \n",
       "90000  https://www.last.fm/music/message%2bto%2bbears...   \n",
       "\n",
       "                                         track                       artist  \\\n",
       "0                             'Till I Collapse                       Eminem   \n",
       "1                                    St. Anger                    Metallica   \n",
       "2                                     Speedin'                    Rick Ross   \n",
       "3                                 Bamboo Banga                       M.I.A.   \n",
       "4                                   Die MF Die                         Dope   \n",
       "...                                        ...                          ...   \n",
       "89996                                   Battle  Gaby Hoffmann & Jay Duplass   \n",
       "89997  Hands Tied to the Roots of a Hemorrhage         Omar Rodriguez-Lopez   \n",
       "89998                           Crookfield Zoo                    Ace White   \n",
       "89999               Transparent (Full Version)                 Second Chyld   \n",
       "90000                                   Unfold             Message To Bears   \n",
       "\n",
       "                                            seeds  number_of_emotion_tags  \\\n",
       "0                                  ['aggressive']                       6   \n",
       "1                                  ['aggressive']                       8   \n",
       "2                                  ['aggressive']                       1   \n",
       "3      ['aggressive', 'fun', 'sexy', 'energetic']                      13   \n",
       "4                                  ['aggressive']                       7   \n",
       "...                                           ...                     ...   \n",
       "89996                             ['transparent']                       1   \n",
       "89997                             ['transparent']                       4   \n",
       "89998                             ['transparent']                       1   \n",
       "89999                             ['transparent']                       1   \n",
       "90000                             ['translucent']                       2   \n",
       "\n",
       "       valence_tags  arousal_tags  dominance_tags  \\\n",
       "0          4.550000      5.273125        5.690625   \n",
       "1          3.710000      5.833000        5.427250   \n",
       "2          3.080000      5.870000        5.490000   \n",
       "3          6.555071      5.537214        5.691357   \n",
       "4          3.771176      5.348235        5.441765   \n",
       "...             ...           ...             ...   \n",
       "89996      5.370000      3.450000        5.330000   \n",
       "89997      5.797887      4.132254        5.570563   \n",
       "89998      5.370000      3.450000        5.330000   \n",
       "89999      5.370000      3.450000        5.330000   \n",
       "90000      3.340000      1.405000        3.500000   \n",
       "\n",
       "                                       mbid              spotify_id  \\\n",
       "0      cab93def-26c5-4fb0-bedd-26ec4c1619e1  4xkOaSrkexMciUUogZKVTS   \n",
       "1      727a2529-7ee8-4860-aef6-7959884895cb  3fOc9x06lKJBhz435mInlH   \n",
       "2                                       NaN  3Y96xd4Ce0J47dcalLrEC8   \n",
       "3      99dd2c8c-e7c1-413e-8ea4-4497a00ffa18  6tqFC1DIOphJkCwrjVzPmg   \n",
       "4      b9eb3484-5e0e-4690-ab5a-ca91937032a5  5bU4KX47KqtDKKaLM4QCzh   \n",
       "...                                     ...                     ...   \n",
       "89996                                   NaN                     NaN   \n",
       "89997                                   NaN                     NaN   \n",
       "89998                                   NaN                     NaN   \n",
       "89999                                   NaN                     NaN   \n",
       "90000  247179b0-af1f-4c2b-b4fe-751070d1c0cc  14BYEOeRb3jzglJmKX8eM2   \n",
       "\n",
       "                  genre  \n",
       "0                   rap  \n",
       "1                 metal  \n",
       "2                   rap  \n",
       "3               hip-hop  \n",
       "4                 metal  \n",
       "...                 ...  \n",
       "89996             indie  \n",
       "89997  progressive rock  \n",
       "89998             indie  \n",
       "89999             indie  \n",
       "90000           ambient  \n",
       "\n",
       "[90001 rows x 11 columns]"
      ]
     },
     "execution_count": 10,
     "metadata": {},
     "output_type": "execute_result"
    }
   ],
   "source": [
    "df"
   ]
  },
  {
   "cell_type": "code",
   "execution_count": null,
   "id": "ecd7188d",
   "metadata": {},
   "outputs": [],
   "source": [
    "df.genre"
   ]
  },
  {
   "cell_type": "code",
   "execution_count": null,
   "id": "7326b98b",
   "metadata": {},
   "outputs": [],
   "source": [
    "unique_t1=df.number_of_emotion_tags.unique()"
   ]
  },
  {
   "cell_type": "code",
   "execution_count": null,
   "id": "123436b2",
   "metadata": {},
   "outputs": [],
   "source": [
    "unique_t1"
   ]
  },
  {
   "cell_type": "code",
   "execution_count": 9,
   "id": "3a101f1e",
   "metadata": {},
   "outputs": [
    {
     "data": {
      "text/plain": [
       "lastfm_url                 object\n",
       "track                      object\n",
       "artist                     object\n",
       "seeds                      object\n",
       "number_of_emotion_tags      int64\n",
       "valence_tags              float64\n",
       "arousal_tags              float64\n",
       "dominance_tags            float64\n",
       "mbid                       object\n",
       "spotify_id                 object\n",
       "genre                      object\n",
       "dtype: object"
      ]
     },
     "execution_count": 9,
     "metadata": {},
     "output_type": "execute_result"
    }
   ],
   "source": [
    "df.dtypes"
   ]
  },
  {
   "cell_type": "code",
   "execution_count": null,
   "id": "e49ebaf4",
   "metadata": {
    "scrolled": true
   },
   "outputs": [],
   "source": [
    "df.columns"
   ]
  },
  {
   "cell_type": "markdown",
   "id": "58cbb810",
   "metadata": {},
   "source": [
    "## Percentage of Null Values"
   ]
  },
  {
   "cell_type": "code",
   "execution_count": 4,
   "id": "29d7c917",
   "metadata": {},
   "outputs": [
    {
     "name": "stdout",
     "output_type": "stream",
     "text": [
      "mbid          31.981867\n",
      "spotify_id    31.522983\n",
      "genre          7.376585\n",
      "lastfm_url     0.000000\n",
      "track          0.000000\n",
      "dtype: float64\n"
     ]
    },
    {
     "name": "stderr",
     "output_type": "stream",
     "text": [
      "C:\\Users\\JOE\\AppData\\Local\\Temp/ipykernel_4536/3247021228.py:1: FutureWarning: In a future version of pandas all arguments of Series.sort_values will be keyword-only\n",
      "  per_null_train = df.isnull().sum().sort_values(0, ascending = False)/(df.shape[0])*100\n"
     ]
    }
   ],
   "source": [
    "per_null_train = df.isnull().sum().sort_values(0, ascending = False)/(df.shape[0])*100\n",
    "print(per_null_train.head())"
   ]
  },
  {
   "cell_type": "markdown",
   "id": "e9fbb344",
   "metadata": {},
   "source": [
    "## Treating the Null values"
   ]
  },
  {
   "cell_type": "code",
   "execution_count": 5,
   "id": "ec989e92",
   "metadata": {
    "scrolled": false
   },
   "outputs": [
    {
     "data": {
      "text/plain": [
       "0    indie\n",
       "dtype: object"
      ]
     },
     "execution_count": 5,
     "metadata": {},
     "output_type": "execute_result"
    }
   ],
   "source": [
    "df['genre'].mode()"
   ]
  },
  {
   "cell_type": "code",
   "execution_count": 6,
   "id": "6d1faf1a",
   "metadata": {},
   "outputs": [],
   "source": [
    "df['genre']=df['genre'].fillna('indie')"
   ]
  },
  {
   "cell_type": "code",
   "execution_count": 11,
   "id": "acc4a4b9",
   "metadata": {
    "scrolled": true
   },
   "outputs": [
    {
     "data": {
      "text/plain": [
       "0        00032e29-ab60-440c-9eda-6f3808976fac\n",
       "1        00033929-8ea2-493f-b91a-87bd1fb8cd49\n",
       "2        00050c2a-85c3-4c18-b9c2-20bb0bb306e0\n",
       "3        00072a88-82a0-4688-b92e-40ee813f7721\n",
       "4        0008200b-ad7b-4c6d-8b94-ae791426019e\n",
       "                         ...                 \n",
       "61212    fffbd723-2335-442f-84ac-28ffa00dc0ec\n",
       "61213    fffc20cf-2da3-410b-a532-32051a6b5593\n",
       "61214    fffcd4ae-de6c-417f-8774-00630849f3d5\n",
       "61215    fffe757f-5e1c-4de3-b3af-32589fe1772c\n",
       "61216    ffff2269-d2f3-4346-8a53-a2172e98096a\n",
       "Length: 61217, dtype: object"
      ]
     },
     "execution_count": 11,
     "metadata": {},
     "output_type": "execute_result"
    }
   ],
   "source": [
    "df['mbid'].mode()"
   ]
  },
  {
   "cell_type": "code",
   "execution_count": 15,
   "id": "79301b98",
   "metadata": {},
   "outputs": [],
   "source": [
    "df.dropna(subset=['mbid'], inplace=True)"
   ]
  },
  {
   "cell_type": "code",
   "execution_count": 16,
   "id": "3303868c",
   "metadata": {},
   "outputs": [],
   "source": [
    "df.dropna(subset=['spotify_id'], inplace=True)"
   ]
  },
  {
   "cell_type": "code",
   "execution_count": 17,
   "id": "fc236dea",
   "metadata": {},
   "outputs": [
    {
     "data": {
      "text/plain": [
       "lastfm_url                0\n",
       "track                     0\n",
       "artist                    0\n",
       "seeds                     0\n",
       "number_of_emotion_tags    0\n",
       "valence_tags              0\n",
       "arousal_tags              0\n",
       "dominance_tags            0\n",
       "mbid                      0\n",
       "spotify_id                0\n",
       "genre                     0\n",
       "dtype: int64"
      ]
     },
     "execution_count": 17,
     "metadata": {},
     "output_type": "execute_result"
    }
   ],
   "source": [
    "df.isnull().sum()"
   ]
  },
  {
   "cell_type": "markdown",
   "id": "000732ea",
   "metadata": {},
   "source": [
    "# Displaying the Data"
   ]
  },
  {
   "cell_type": "code",
   "execution_count": null,
   "id": "4245e67a",
   "metadata": {},
   "outputs": [],
   "source": [
    "df.shape"
   ]
  },
  {
   "cell_type": "markdown",
   "id": "1c6184ee",
   "metadata": {},
   "source": [
    "## Data Preprocessing"
   ]
  },
  {
   "cell_type": "markdown",
   "id": "fe1fd335",
   "metadata": {},
   "source": [
    "# Renaming column of dataframe."
   ]
  },
  {
   "cell_type": "code",
   "execution_count": 38,
   "id": "98aaa5ff",
   "metadata": {},
   "outputs": [],
   "source": [
    "df['link'] = df['lastfm_url']\n",
    "df['name'] = df['track']\n",
    "df['emotional'] = df['number_of_emotion_tags']\n",
    "df['pleasant'] = df['valence_tags']"
   ]
  },
  {
   "cell_type": "markdown",
   "id": "d81a2525",
   "metadata": {},
   "source": [
    "# Taking out useful column."
   ]
  },
  {
   "cell_type": "code",
   "execution_count": 39,
   "id": "c7872ec1",
   "metadata": {},
   "outputs": [],
   "source": [
    "df1 = df[['name','emotional','pleasant','link','artist']]"
   ]
  },
  {
   "cell_type": "code",
   "execution_count": 40,
   "id": "1df5a517",
   "metadata": {},
   "outputs": [
    {
     "data": {
      "text/html": [
       "<div>\n",
       "<style scoped>\n",
       "    .dataframe tbody tr th:only-of-type {\n",
       "        vertical-align: middle;\n",
       "    }\n",
       "\n",
       "    .dataframe tbody tr th {\n",
       "        vertical-align: top;\n",
       "    }\n",
       "\n",
       "    .dataframe thead th {\n",
       "        text-align: right;\n",
       "    }\n",
       "</style>\n",
       "<table border=\"1\" class=\"dataframe\">\n",
       "  <thead>\n",
       "    <tr style=\"text-align: right;\">\n",
       "      <th></th>\n",
       "      <th>name</th>\n",
       "      <th>emotional</th>\n",
       "      <th>pleasant</th>\n",
       "      <th>link</th>\n",
       "      <th>artist</th>\n",
       "    </tr>\n",
       "  </thead>\n",
       "  <tbody>\n",
       "    <tr>\n",
       "      <th>0</th>\n",
       "      <td>'Till I Collapse</td>\n",
       "      <td>6</td>\n",
       "      <td>4.550000</td>\n",
       "      <td>https://www.last.fm/music/eminem/_/%2527till%2...</td>\n",
       "      <td>Eminem</td>\n",
       "    </tr>\n",
       "    <tr>\n",
       "      <th>1</th>\n",
       "      <td>St. Anger</td>\n",
       "      <td>8</td>\n",
       "      <td>3.710000</td>\n",
       "      <td>https://www.last.fm/music/metallica/_/st.%2banger</td>\n",
       "      <td>Metallica</td>\n",
       "    </tr>\n",
       "    <tr>\n",
       "      <th>3</th>\n",
       "      <td>Bamboo Banga</td>\n",
       "      <td>13</td>\n",
       "      <td>6.555071</td>\n",
       "      <td>https://www.last.fm/music/m.i.a./_/bamboo%2bbanga</td>\n",
       "      <td>M.I.A.</td>\n",
       "    </tr>\n",
       "    <tr>\n",
       "      <th>4</th>\n",
       "      <td>Die MF Die</td>\n",
       "      <td>7</td>\n",
       "      <td>3.771176</td>\n",
       "      <td>https://www.last.fm/music/dope/_/die%2bmf%2bdie</td>\n",
       "      <td>Dope</td>\n",
       "    </tr>\n",
       "    <tr>\n",
       "      <th>5</th>\n",
       "      <td>Step Up</td>\n",
       "      <td>9</td>\n",
       "      <td>2.971389</td>\n",
       "      <td>https://www.last.fm/music/drowning%2bpool/_/st...</td>\n",
       "      <td>Drowning Pool</td>\n",
       "    </tr>\n",
       "    <tr>\n",
       "      <th>...</th>\n",
       "      <td>...</td>\n",
       "      <td>...</td>\n",
       "      <td>...</td>\n",
       "      <td>...</td>\n",
       "      <td>...</td>\n",
       "    </tr>\n",
       "    <tr>\n",
       "      <th>89983</th>\n",
       "      <td>Secret</td>\n",
       "      <td>1</td>\n",
       "      <td>5.370000</td>\n",
       "      <td>https://www.last.fm/music/quietdrive/_/secret</td>\n",
       "      <td>Quietdrive</td>\n",
       "    </tr>\n",
       "    <tr>\n",
       "      <th>89985</th>\n",
       "      <td>The Last of the Rest Was the End</td>\n",
       "      <td>1</td>\n",
       "      <td>5.370000</td>\n",
       "      <td>https://www.last.fm/music/medications/_/the%2b...</td>\n",
       "      <td>Medications</td>\n",
       "    </tr>\n",
       "    <tr>\n",
       "      <th>89986</th>\n",
       "      <td>Lovechild</td>\n",
       "      <td>2</td>\n",
       "      <td>6.685000</td>\n",
       "      <td>https://www.last.fm/music/daniel%2blanois/_/lo...</td>\n",
       "      <td>Daniel Lanois</td>\n",
       "    </tr>\n",
       "    <tr>\n",
       "      <th>89991</th>\n",
       "      <td>Last Inhale</td>\n",
       "      <td>6</td>\n",
       "      <td>4.301667</td>\n",
       "      <td>https://www.last.fm/music/tapage/_/last%2binhale</td>\n",
       "      <td>Tapage</td>\n",
       "    </tr>\n",
       "    <tr>\n",
       "      <th>90000</th>\n",
       "      <td>Unfold</td>\n",
       "      <td>2</td>\n",
       "      <td>3.340000</td>\n",
       "      <td>https://www.last.fm/music/message%2bto%2bbears...</td>\n",
       "      <td>Message To Bears</td>\n",
       "    </tr>\n",
       "  </tbody>\n",
       "</table>\n",
       "<p>50118 rows × 5 columns</p>\n",
       "</div>"
      ],
      "text/plain": [
       "                                   name  emotional  pleasant  \\\n",
       "0                      'Till I Collapse          6  4.550000   \n",
       "1                             St. Anger          8  3.710000   \n",
       "3                          Bamboo Banga         13  6.555071   \n",
       "4                            Die MF Die          7  3.771176   \n",
       "5                               Step Up          9  2.971389   \n",
       "...                                 ...        ...       ...   \n",
       "89983                            Secret          1  5.370000   \n",
       "89985  The Last of the Rest Was the End          1  5.370000   \n",
       "89986                         Lovechild          2  6.685000   \n",
       "89991                       Last Inhale          6  4.301667   \n",
       "90000                            Unfold          2  3.340000   \n",
       "\n",
       "                                                    link            artist  \n",
       "0      https://www.last.fm/music/eminem/_/%2527till%2...            Eminem  \n",
       "1      https://www.last.fm/music/metallica/_/st.%2banger         Metallica  \n",
       "3      https://www.last.fm/music/m.i.a./_/bamboo%2bbanga            M.I.A.  \n",
       "4        https://www.last.fm/music/dope/_/die%2bmf%2bdie              Dope  \n",
       "5      https://www.last.fm/music/drowning%2bpool/_/st...     Drowning Pool  \n",
       "...                                                  ...               ...  \n",
       "89983      https://www.last.fm/music/quietdrive/_/secret        Quietdrive  \n",
       "89985  https://www.last.fm/music/medications/_/the%2b...       Medications  \n",
       "89986  https://www.last.fm/music/daniel%2blanois/_/lo...     Daniel Lanois  \n",
       "89991   https://www.last.fm/music/tapage/_/last%2binhale            Tapage  \n",
       "90000  https://www.last.fm/music/message%2bto%2bbears...  Message To Bears  \n",
       "\n",
       "[50118 rows x 5 columns]"
      ]
     },
     "execution_count": 40,
     "metadata": {},
     "output_type": "execute_result"
    }
   ],
   "source": [
    "df1"
   ]
  },
  {
   "cell_type": "markdown",
   "id": "3ed43d0b",
   "metadata": {},
   "source": [
    "# Sort column based on emotional & pleasant column value.\n",
    "# Pleasant = degree of pleasant in that particular song.\n",
    "# Emotional = emotional word used in that song."
   ]
  },
  {
   "cell_type": "code",
   "execution_count": 41,
   "id": "fed00e58",
   "metadata": {
    "scrolled": true
   },
   "outputs": [
    {
     "data": {
      "text/html": [
       "<div>\n",
       "<style scoped>\n",
       "    .dataframe tbody tr th:only-of-type {\n",
       "        vertical-align: middle;\n",
       "    }\n",
       "\n",
       "    .dataframe tbody tr th {\n",
       "        vertical-align: top;\n",
       "    }\n",
       "\n",
       "    .dataframe thead th {\n",
       "        text-align: right;\n",
       "    }\n",
       "</style>\n",
       "<table border=\"1\" class=\"dataframe\">\n",
       "  <thead>\n",
       "    <tr style=\"text-align: right;\">\n",
       "      <th></th>\n",
       "      <th>index</th>\n",
       "      <th>name</th>\n",
       "      <th>emotional</th>\n",
       "      <th>pleasant</th>\n",
       "      <th>link</th>\n",
       "      <th>artist</th>\n",
       "    </tr>\n",
       "  </thead>\n",
       "  <tbody>\n",
       "    <tr>\n",
       "      <th>0</th>\n",
       "      <td>66259</td>\n",
       "      <td>Hold Still</td>\n",
       "      <td>1</td>\n",
       "      <td>2.100000</td>\n",
       "      <td>https://www.last.fm/music/grizzly%2bbear/_/hol...</td>\n",
       "      <td>Grizzly Bear</td>\n",
       "    </tr>\n",
       "    <tr>\n",
       "      <th>1</th>\n",
       "      <td>66282</td>\n",
       "      <td>Bad Habit</td>\n",
       "      <td>1</td>\n",
       "      <td>2.100000</td>\n",
       "      <td>https://www.last.fm/music/foals/_/bad%2bhabit</td>\n",
       "      <td>Foals</td>\n",
       "    </tr>\n",
       "    <tr>\n",
       "      <th>2</th>\n",
       "      <td>66285</td>\n",
       "      <td>Wakin On A Pretty Day</td>\n",
       "      <td>1</td>\n",
       "      <td>2.100000</td>\n",
       "      <td>https://www.last.fm/music/kurt%2bvile/_/wakin%...</td>\n",
       "      <td>Kurt Vile</td>\n",
       "    </tr>\n",
       "    <tr>\n",
       "      <th>3</th>\n",
       "      <td>66332</td>\n",
       "      <td>Lullaby</td>\n",
       "      <td>1</td>\n",
       "      <td>2.100000</td>\n",
       "      <td>https://www.last.fm/music/nickelback/_/lullaby</td>\n",
       "      <td>Nickelback</td>\n",
       "    </tr>\n",
       "    <tr>\n",
       "      <th>4</th>\n",
       "      <td>66338</td>\n",
       "      <td>III. Telegraph Ave. (\"Oakland\" by Lloyd)</td>\n",
       "      <td>1</td>\n",
       "      <td>2.100000</td>\n",
       "      <td>https://www.last.fm/music/childish%2bgambino/_...</td>\n",
       "      <td>Childish Gambino</td>\n",
       "    </tr>\n",
       "    <tr>\n",
       "      <th>...</th>\n",
       "      <td>...</td>\n",
       "      <td>...</td>\n",
       "      <td>...</td>\n",
       "      <td>...</td>\n",
       "      <td>...</td>\n",
       "      <td>...</td>\n",
       "    </tr>\n",
       "    <tr>\n",
       "      <th>50113</th>\n",
       "      <td>9681</td>\n",
       "      <td>I Want You</td>\n",
       "      <td>40</td>\n",
       "      <td>4.582073</td>\n",
       "      <td>https://www.last.fm/music/elvis%2bcostello%2b%...</td>\n",
       "      <td>Elvis Costello &amp; The Attractions</td>\n",
       "    </tr>\n",
       "    <tr>\n",
       "      <th>50114</th>\n",
       "      <td>7218</td>\n",
       "      <td>Six</td>\n",
       "      <td>40</td>\n",
       "      <td>5.607477</td>\n",
       "      <td>https://www.last.fm/music/john%2bmost/_/six</td>\n",
       "      <td>John Most</td>\n",
       "    </tr>\n",
       "    <tr>\n",
       "      <th>50115</th>\n",
       "      <td>7323</td>\n",
       "      <td>Eight</td>\n",
       "      <td>40</td>\n",
       "      <td>5.697157</td>\n",
       "      <td>https://www.last.fm/music/john%2bmost/_/eight</td>\n",
       "      <td>John Most</td>\n",
       "    </tr>\n",
       "    <tr>\n",
       "      <th>50116</th>\n",
       "      <td>7326</td>\n",
       "      <td>Sixteen</td>\n",
       "      <td>40</td>\n",
       "      <td>5.791404</td>\n",
       "      <td>https://www.last.fm/music/john%2bmost/_/sixteen</td>\n",
       "      <td>John Most</td>\n",
       "    </tr>\n",
       "    <tr>\n",
       "      <th>50117</th>\n",
       "      <td>6507</td>\n",
       "      <td>El Naco</td>\n",
       "      <td>47</td>\n",
       "      <td>2.875720</td>\n",
       "      <td>https://www.last.fm/music/xiu%2bxiu/_/el%2bnaco</td>\n",
       "      <td>Xiu Xiu</td>\n",
       "    </tr>\n",
       "  </tbody>\n",
       "</table>\n",
       "<p>50118 rows × 6 columns</p>\n",
       "</div>"
      ],
      "text/plain": [
       "       index                                      name  emotional  pleasant  \\\n",
       "0      66259                                Hold Still          1  2.100000   \n",
       "1      66282                                 Bad Habit          1  2.100000   \n",
       "2      66285                     Wakin On A Pretty Day          1  2.100000   \n",
       "3      66332                                   Lullaby          1  2.100000   \n",
       "4      66338  III. Telegraph Ave. (\"Oakland\" by Lloyd)          1  2.100000   \n",
       "...      ...                                       ...        ...       ...   \n",
       "50113   9681                                I Want You         40  4.582073   \n",
       "50114   7218                                       Six         40  5.607477   \n",
       "50115   7323                                     Eight         40  5.697157   \n",
       "50116   7326                                   Sixteen         40  5.791404   \n",
       "50117   6507                                   El Naco         47  2.875720   \n",
       "\n",
       "                                                    link  \\\n",
       "0      https://www.last.fm/music/grizzly%2bbear/_/hol...   \n",
       "1          https://www.last.fm/music/foals/_/bad%2bhabit   \n",
       "2      https://www.last.fm/music/kurt%2bvile/_/wakin%...   \n",
       "3         https://www.last.fm/music/nickelback/_/lullaby   \n",
       "4      https://www.last.fm/music/childish%2bgambino/_...   \n",
       "...                                                  ...   \n",
       "50113  https://www.last.fm/music/elvis%2bcostello%2b%...   \n",
       "50114        https://www.last.fm/music/john%2bmost/_/six   \n",
       "50115      https://www.last.fm/music/john%2bmost/_/eight   \n",
       "50116    https://www.last.fm/music/john%2bmost/_/sixteen   \n",
       "50117    https://www.last.fm/music/xiu%2bxiu/_/el%2bnaco   \n",
       "\n",
       "                                 artist  \n",
       "0                          Grizzly Bear  \n",
       "1                                 Foals  \n",
       "2                             Kurt Vile  \n",
       "3                            Nickelback  \n",
       "4                      Childish Gambino  \n",
       "...                                 ...  \n",
       "50113  Elvis Costello & The Attractions  \n",
       "50114                         John Most  \n",
       "50115                         John Most  \n",
       "50116                         John Most  \n",
       "50117                           Xiu Xiu  \n",
       "\n",
       "[50118 rows x 6 columns]"
      ]
     },
     "execution_count": 41,
     "metadata": {},
     "output_type": "execute_result"
    }
   ],
   "source": [
    "df1 = df1.sort_values(by=[\"emotional\", \"pleasant\"])\n",
    "df1.reset_index()"
   ]
  },
  {
   "cell_type": "markdown",
   "id": "ea8315e1",
   "metadata": {},
   "source": [
    "# Getting out the Columns"
   ]
  },
  {
   "cell_type": "code",
   "execution_count": null,
   "id": "b5e2f312",
   "metadata": {
    "scrolled": true
   },
   "outputs": [],
   "source": [
    "df1.columns"
   ]
  },
  {
   "cell_type": "code",
   "execution_count": null,
   "id": "19a987ca",
   "metadata": {
    "scrolled": true
   },
   "outputs": [],
   "source": [
    "df1.info()"
   ]
  },
  {
   "cell_type": "code",
   "execution_count": null,
   "id": "5962ca2b",
   "metadata": {
    "scrolled": true
   },
   "outputs": [],
   "source": [
    "df1.shape"
   ]
  },
  {
   "cell_type": "code",
   "execution_count": null,
   "id": "747ce1aa",
   "metadata": {
    "scrolled": true
   },
   "outputs": [],
   "source": [
    "df1.describe()"
   ]
  },
  {
   "cell_type": "markdown",
   "id": "a6ee8412",
   "metadata": {},
   "source": [
    "## Checking For Null Values"
   ]
  },
  {
   "cell_type": "code",
   "execution_count": null,
   "id": "1ab3a7e0",
   "metadata": {
    "scrolled": false
   },
   "outputs": [],
   "source": [
    "df1.isnull().sum()"
   ]
  },
  {
   "cell_type": "code",
   "execution_count": null,
   "id": "d938ba07",
   "metadata": {
    "scrolled": true
   },
   "outputs": [],
   "source": [
    "sns.heatmap(df1.isnull(),yticklabels=False,cmap=\"viridis\")"
   ]
  },
  {
   "cell_type": "markdown",
   "id": "24d8fb64",
   "metadata": {},
   "source": [
    "#### The Dataset muse does not have the null values"
   ]
  },
  {
   "cell_type": "markdown",
   "id": "188682b4",
   "metadata": {},
   "source": [
    "# Diving dataframe based on emotional & pleasant value in sorted order."
   ]
  },
  {
   "cell_type": "code",
   "execution_count": 42,
   "id": "672a1448",
   "metadata": {},
   "outputs": [],
   "source": [
    "df_sad = df[:18000]\n",
    "df_fear = df[18000:36000]\n",
    "df_angry = df[36000:54000]\n",
    "df_neutral = df[54000:72000]\n",
    "df_happy = df[72000:]"
   ]
  },
  {
   "cell_type": "markdown",
   "id": "398cb157",
   "metadata": {},
   "source": [
    "# Task of function 'fun' is to take list of unique emotions & return dataframe of 30 rows."
   ]
  },
  {
   "cell_type": "code",
   "execution_count": null,
   "id": "021e44df",
   "metadata": {},
   "outputs": [],
   "source": [
    "def fun(list):\n",
    "\n",
    "    # Creating Empty Dataframe\n",
    "    data = pd.DataFrame()\n",
    "\n",
    "    # If list of emotion's contain only 1 emotion\n",
    "    if len(list) == 1:\n",
    "        # Emotion name\n",
    "        v = list[0]\n",
    "\n",
    "        # Number of rows for this emotion\n",
    "        t = 30\n",
    "\n",
    "        if v == 'Neutral':\n",
    "            # Adding rows to data\n",
    "            data = data.append(df_neutral.sample(n=t))\n",
    "\n",
    "        elif v == 'Angry':\n",
    "            # Adding rows to data\n",
    "            data = data.append(df_angry.sample(n=t))\n",
    "\n",
    "        elif v == 'fear':\n",
    "            # Adding rows to data\n",
    "            data = data.append(df_fear.sample(n=t))\n",
    "\n",
    "        elif v == 'happy':\n",
    "            # Adding rows to data\n",
    "            data = data.append(df_happy.sample(n=t))\n",
    "\n",
    "        else:\n",
    "            # Adding rows to data\n",
    "            data = data.append(df_sad.sample(n=t))\n",
    "\n",
    "    elif len(list) == 2:\n",
    "        # Row's count per emotion\n",
    "        times = [20,10]\n",
    "\n",
    "        for i in range(len(list)):\n",
    "            # Emotion name\n",
    "            v = list[i]\n",
    "\n",
    "            # Number of rows for this emotion\n",
    "            t = times[i]\n",
    "\n",
    "            if v == 'Neutral':\n",
    "                # Adding rows to data\n",
    "                data = data.append(df_neutral.sample(n=t))\n",
    "\n",
    "            elif v == 'Angry':\n",
    "                # Adding rows to data\n",
    "                data = data.append(df_angry.sample(n=t))\n",
    "\n",
    "            elif v == 'fear':\n",
    "                # Adding rows to data\n",
    "                data = data.append(df_fear.sample(n=t))\n",
    "\n",
    "            elif v == 'happy':\n",
    "                # Adding rows to data\n",
    "                data = data.append(df_happy.sample(n=t))\n",
    "\n",
    "            else:\n",
    "                # Adding rows to data\n",
    "                data = data.append(df_sad.sample(n=t))\n",
    "\n",
    "    elif len(list) == 3:\n",
    "        # Row's count per emotion\n",
    "        times = [15,10,5]\n",
    "\n",
    "        for i in range(len(list)):\n",
    "            # Emotion name\n",
    "            v = list[i]\n",
    "\n",
    "            # Number of rows for this emotion\n",
    "            t = times[i]\n",
    "\n",
    "            if v == 'Neutral':\n",
    "                # Adding rows to data\n",
    "                data = data.append(df_neutral.sample(n=t))\n",
    "\n",
    "            elif v == 'Angry':\n",
    "                # Adding rows to data\n",
    "                data = data.append(df_angry.sample(n=t))\n",
    "\n",
    "            elif v == 'fear':\n",
    "                # Adding rows to data\n",
    "                data = data.append(df_fear.sample(n=t))\n",
    "\n",
    "            elif v == 'happy':\n",
    "                # Adding rows to data\n",
    "                data = data.append(df_happy.sample(n=t))\n",
    "\n",
    "            else:\n",
    "                # Adding rows to data\n",
    "                data = data.append(df_sad.sample(n=t))\n",
    "\n",
    "    elif len(list) == 4:\n",
    "        # Row's count per emotion\n",
    "        times = [10,9,8,3]\n",
    "\n",
    "        for i in range(len(list)):\n",
    "            # Emotion name\n",
    "            v = list[i]\n",
    "\n",
    "            # Number of rows for this emotion\n",
    "            t = times[i]\n",
    "\n",
    "            if v == 'Neutral':\n",
    "                # Adding rows to data\n",
    "                data = data.append(df_neutral.sample(n=t))\n",
    "\n",
    "            elif v == 'Angry':\n",
    "                # Adding rows to data\n",
    "                data = data.append(df_angry.sample(n=t))\n",
    "\n",
    "            elif v == 'fear':\n",
    "                # Adding rows to data\n",
    "                data = data.append(df_fear.sample(n=t))\n",
    "\n",
    "            elif v == 'happy':\n",
    "                # Adding rows to data\n",
    "                data = data.append(df_happy.sample(n=t))\n",
    "\n",
    "            else:\n",
    "                # Adding rows to data\n",
    "                data = data.append(df_sad.sample(n=t))\n",
    "    else:\n",
    "        # Row's count per emotion\n",
    "        times = [10,7,6,5,2]\n",
    "\n",
    "        for i in range(len(list)):\n",
    "            # Emotion name\n",
    "            v = list[i]\n",
    "\n",
    "            # Number of rows for this emotion\n",
    "            t = times[i]\n",
    "\n",
    "            if v == 'Neutral':\n",
    "                # Adding rows to data\n",
    "                data = data.append(df_neutral.sample(n=t))\n",
    "\n",
    "            elif v == 'Angry':\n",
    "                # Adding rows to data\n",
    "                data = data.append(df_angry.sample(n=t))\n",
    "\n",
    "            elif v == 'fear':\n",
    "                # Adding rows to data\n",
    "                data = data.append(df_fear.sample(n=t))\n",
    "\n",
    "            elif v == 'happy':\n",
    "                # Adding rows to data\n",
    "                data = data.append(df_happy.sample(n=t))\n",
    "\n",
    "            else:\n",
    "                # Adding rows to data\n",
    "                data = data.append(df_sad.sample(n=t))\n",
    "    return data"
   ]
  },
  {
   "cell_type": "markdown",
   "id": "6922d8bf",
   "metadata": {},
   "source": [
    "## Task of function 'pre' is to take list of emotions (containing duplicate also) &\n",
    "### return unique list of emotion in sorted order based on count."
   ]
  },
  {
   "cell_type": "code",
   "execution_count": null,
   "id": "adc4d63f",
   "metadata": {},
   "outputs": [],
   "source": [
    "def pre(l):\n",
    "    # result contain sorted emotion's(duplicate present if any)\n",
    "    # Counter has a most_common() method that returns a list of tuples of (element, count) sorted by counts.\n",
    "    result = [item for items, c in Counter(l).most_common()\n",
    "              for item in [items] * c]\n",
    "\n",
    "    # Creating empty unique list\n",
    "    ul = []\n",
    "\n",
    "    for x in result:\n",
    "        if x not in ul:\n",
    "            ul.append(x)\n",
    "    return ul"
   ]
  },
  {
   "cell_type": "markdown",
   "id": "dd3b4f5f",
   "metadata": {},
   "source": [
    "## TOP 10 Artist"
   ]
  },
  {
   "cell_type": "code",
   "execution_count": 45,
   "id": "f77e060d",
   "metadata": {},
   "outputs": [
    {
     "data": {
      "text/plain": [
       "Bob Dylan               139\n",
       "They Might Be Giants    108\n",
       "Warren Zevon            104\n",
       "Tom Waits               103\n",
       "The Beatles              93\n",
       "Radiohead                88\n",
       "The Cure                 84\n",
       "of Montreal              81\n",
       "Robbie Williams          79\n",
       "David Bowie              77\n",
       "Name: artist, dtype: int64"
      ]
     },
     "execution_count": 45,
     "metadata": {},
     "output_type": "execute_result"
    }
   ],
   "source": [
    "a=df.artist.value_counts()[:10]\n",
    "a1=a.head(15)\n",
    "a1"
   ]
  },
  {
   "cell_type": "code",
   "execution_count": 46,
   "id": "bdece158",
   "metadata": {},
   "outputs": [
    {
     "name": "stderr",
     "output_type": "stream",
     "text": [
      "C:\\New folder\\lib\\site-packages\\seaborn\\_decorators.py:36: FutureWarning: Pass the following variable as a keyword arg: x. From version 0.12, the only valid positional argument will be `data`, and passing other arguments without an explicit keyword will result in an error or misinterpretation.\n",
      "  warnings.warn(\n"
     ]
    },
    {
     "data": {
      "text/plain": [
       "Text(0.5, 1.0, 'Top 10 Genres')"
      ]
     },
     "execution_count": 46,
     "metadata": {},
     "output_type": "execute_result"
    },
    {
     "data": {
      "image/png": "[encoded data removed]",
      "text/plain": [
       "<Figure size 1800x360 with 1 Axes>"
      ]
     },
     "metadata": {
      "needs_background": "light"
     },
     "output_type": "display_data"
    }
   ],
   "source": [
    "ind=a.index\n",
    "ls=[]\n",
    "for i in range(len(a)):\n",
    "    t=[ind[i]]*a[i]\n",
    "    ls+=t\n",
    "plt.subplots(figsize=(25,5))\n",
    "sns.countplot(ls)\n",
    "plt.title(\"Top 10 Genres\")"
   ]
  },
  {
   "cell_type": "markdown",
   "id": "5c604865",
   "metadata": {},
   "source": [
    "### Analysing the pleasant with the emotional in which the game released "
   ]
  },
  {
   "cell_type": "code",
   "execution_count": 43,
   "id": "4de2ea4b",
   "metadata": {
    "scrolled": true
   },
   "outputs": [
    {
     "data": {
      "text/plain": [
       "<Figure size 1800x1800 with 0 Axes>"
      ]
     },
     "metadata": {},
     "output_type": "display_data"
    },
    {
     "data": {
      "image/png": "[encoded data removed]",
      "text/plain": [
       "<Figure size 1080x360 with 1 Axes>"
      ]
     },
     "metadata": {
      "needs_background": "light"
     },
     "output_type": "display_data"
    }
   ],
   "source": [
    "plt.figure(figsize=(25,25))\n",
    "sns.relplot(x=\"emotional\", y=\"pleasant\", data=df1,kind='line',aspect=3,color=\"Red\")\n",
    "plt.show()"
   ]
  },
  {
   "cell_type": "markdown",
   "id": "ecfc6ce7",
   "metadata": {},
   "source": [
    "### Top Genre "
   ]
  },
  {
   "cell_type": "code",
   "execution_count": null,
   "id": "b9ca8311",
   "metadata": {
    "scrolled": true
   },
   "outputs": [],
   "source": [
    "c=df.genre.value_counts()[:10]\n",
    "pub=c.head(15)\n",
    "pub"
   ]
  },
  {
   "cell_type": "code",
   "execution_count": null,
   "id": "d7d96b4d",
   "metadata": {},
   "outputs": [],
   "source": [
    "pub"
   ]
  },
  {
   "cell_type": "code",
   "execution_count": null,
   "id": "7fe74e17",
   "metadata": {
    "scrolled": true
   },
   "outputs": [],
   "source": [
    "ind=c.index\n",
    "ls=[]\n",
    "for i in range(len(c)):\n",
    "    t=[ind[i]]*c[i]\n",
    "    ls+=t\n",
    "plt.subplots(figsize=(25,5))\n",
    "sns.countplot(ls)\n",
    "plt.title(\"Top 10 Genres\")"
   ]
  },
  {
   "cell_type": "markdown",
   "id": "50fccee3",
   "metadata": {},
   "source": [
    "## Top Sentiments"
   ]
  },
  {
   "cell_type": "code",
   "execution_count": 32,
   "id": "ee90841a",
   "metadata": {
    "scrolled": false
   },
   "outputs": [
    {
     "data": {
      "text/plain": [
       "['sleazy']        629\n",
       "['sexy']          559\n",
       "['aggressive']    540\n",
       "['romantic']      536\n",
       "['angry']         533\n",
       "['epic']          507\n",
       "['smooth']        501\n",
       "['erotic']        498\n",
       "['light']         483\n",
       "['happy']         473\n",
       "Name: seeds, dtype: int64"
      ]
     },
     "execution_count": 32,
     "metadata": {},
     "output_type": "execute_result"
    }
   ],
   "source": [
    "s=df.seeds.value_counts()[:10]\n",
    "senti=s.head(15)\n",
    "senti"
   ]
  },
  {
   "cell_type": "code",
   "execution_count": 34,
   "id": "b20cb923",
   "metadata": {},
   "outputs": [
    {
     "name": "stderr",
     "output_type": "stream",
     "text": [
      "C:\\New folder\\lib\\site-packages\\seaborn\\_decorators.py:36: FutureWarning: Pass the following variable as a keyword arg: x. From version 0.12, the only valid positional argument will be `data`, and passing other arguments without an explicit keyword will result in an error or misinterpretation.\n",
      "  warnings.warn(\n"
     ]
    },
    {
     "data": {
      "text/plain": [
       "Text(0.5, 1.0, 'Top 10 seeds')"
      ]
     },
     "execution_count": 34,
     "metadata": {},
     "output_type": "execute_result"
    },
    {
     "data": {
      "image/png": "[encoded data removed]",
      "text/plain": [
       "<Figure size 1800x360 with 1 Axes>"
      ]
     },
     "metadata": {
      "needs_background": "light"
     },
     "output_type": "display_data"
    }
   ],
   "source": [
    "ind=s.index\n",
    "ls=[]\n",
    "for i in range(len(s)):\n",
    "    t=[ind[i]]*s[i]\n",
    "    ls+=t\n",
    "plt.subplots(figsize=(25,5))\n",
    "sns.countplot(ls)\n",
    "plt.title(\"Top 10 seeds\")"
   ]
  },
  {
   "cell_type": "markdown",
   "id": "3c99d5df",
   "metadata": {},
   "source": [
    "# Creating model\n",
    "# kerel_size = specifying the height and width of the 2D convolution window.\n",
    "# Convolution window : A convolution layer defines a window by which we examine a subset of the image."
   ]
  },
  {
   "cell_type": "code",
   "execution_count": 47,
   "id": "bdecfbda",
   "metadata": {},
   "outputs": [],
   "source": [
    "\"\"\"RELU : The rectified linear activation function or ReLU for short is a piecewise linear function that will output the input directly if it is positive, \n",
    "otherwise, it will output zero.\"\"\"\n",
    "model = Sequential()\n",
    "model.add(Conv2D(32, kernel_size=(3, 3), activation='relu', input_shape=(48,48,1)))\n",
    "model.add(Conv2D(64, kernel_size=(3, 3), activation='relu'))"
   ]
  },
  {
   "cell_type": "markdown",
   "id": "0c5a3d22",
   "metadata": {},
   "source": [
    "# MaxPooling2D : Max pooling is a pooling operation that selects the maximum element from the region of the feature map covered by the filter"
   ]
  },
  {
   "cell_type": "code",
   "execution_count": 48,
   "id": "ce932c57",
   "metadata": {},
   "outputs": [],
   "source": [
    "model.add(MaxPooling2D(pool_size=(2, 2)))"
   ]
  },
  {
   "cell_type": "markdown",
   "id": "908c81b3",
   "metadata": {},
   "source": [
    "# Dropout is a technique where randomly selected neurons are ignored during training.Dropout is a technique where randomly selected neurons are ignored during training."
   ]
  },
  {
   "cell_type": "code",
   "execution_count": 49,
   "id": "f5b9f129",
   "metadata": {},
   "outputs": [],
   "source": [
    "model.add(Dropout(0.25))\n",
    "model.add(Conv2D(128, kernel_size=(3, 3), activation='relu'))\n",
    "model.add(MaxPooling2D(pool_size=(2, 2)))\n",
    "model.add(Conv2D(128, kernel_size=(3, 3), activation='relu'))\n",
    "model.add(MaxPooling2D(pool_size=(2, 2)))\n",
    "model.add(Dropout(0.25))\n",
    "model.add(Flatten())\n",
    "model.add(Dense(1024, activation='relu'))\n",
    "model.add(Dropout(0.5))"
   ]
  },
  {
   "cell_type": "markdown",
   "id": "f4a04ad8",
   "metadata": {},
   "source": [
    "# Softmax : It is mainly used to normalize neural networks output to fit between zero and one."
   ]
  },
  {
   "cell_type": "code",
   "execution_count": 50,
   "id": "99140a67",
   "metadata": {},
   "outputs": [],
   "source": [
    "model.add(Dense(7, activation='softmax'))"
   ]
  },
  {
   "cell_type": "code",
   "execution_count": null,
   "id": "5ee6c87c",
   "metadata": {},
   "outputs": [],
   "source": []
  },
  {
   "cell_type": "code",
   "execution_count": 51,
   "id": "27a60a4b",
   "metadata": {},
   "outputs": [
    {
     "name": "stdout",
     "output_type": "stream",
     "text": [
      "Model: \"sequential\"\n",
      "_________________________________________________________________\n",
      " Layer (type)                Output Shape              Param #   \n",
      "=================================================================\n",
      " conv2d (Conv2D)             (None, 46, 46, 32)        320       \n",
      "                                                                 \n",
      " conv2d_1 (Conv2D)           (None, 44, 44, 64)        18496     \n",
      "                                                                 \n",
      " max_pooling2d (MaxPooling2D  (None, 22, 22, 64)       0         \n",
      " )                                                               \n",
      "                                                                 \n",
      " dropout (Dropout)           (None, 22, 22, 64)        0         \n",
      "                                                                 \n",
      " conv2d_2 (Conv2D)           (None, 20, 20, 128)       73856     \n",
      "                                                                 \n",
      " max_pooling2d_1 (MaxPooling  (None, 10, 10, 128)      0         \n",
      " 2D)                                                             \n",
      "                                                                 \n",
      " conv2d_3 (Conv2D)           (None, 8, 8, 128)         147584    \n",
      "                                                                 \n",
      " max_pooling2d_2 (MaxPooling  (None, 4, 4, 128)        0         \n",
      " 2D)                                                             \n",
      "                                                                 \n",
      " dropout_1 (Dropout)         (None, 4, 4, 128)         0         \n",
      "                                                                 \n",
      " flatten (Flatten)           (None, 2048)              0         \n",
      "                                                                 \n",
      " dense (Dense)               (None, 1024)              2098176   \n",
      "                                                                 \n",
      " dropout_2 (Dropout)         (None, 1024)              0         \n",
      "                                                                 \n",
      " dense_1 (Dense)             (None, 7)                 7175      \n",
      "                                                                 \n",
      "=================================================================\n",
      "Total params: 2,345,607\n",
      "Trainable params: 2,345,607\n",
      "Non-trainable params: 0\n",
      "_________________________________________________________________\n"
     ]
    }
   ],
   "source": [
    "model.summary()"
   ]
  },
  {
   "cell_type": "markdown",
   "id": "6f7f216d",
   "metadata": {},
   "source": [
    "# Loading weights from pretrained model"
   ]
  },
  {
   "cell_type": "code",
   "execution_count": null,
   "id": "8a1535d9",
   "metadata": {},
   "outputs": [],
   "source": [
    "model.load_weights('model.h5')"
   ]
  },
  {
   "cell_type": "code",
   "execution_count": null,
   "id": "7b5c73db",
   "metadata": {},
   "outputs": [],
   "source": [
    "emotion_dict = {0: \"Angry\", 1: \"Disgusted\", 2: \"Fearful\", 3: \"Happy\", 4: \"Neutral\", 5: \"Sad\", 6: \"Surprised\"}"
   ]
  },
  {
   "cell_type": "markdown",
   "id": "1eeec543",
   "metadata": {},
   "source": [
    "# Not Attach OpenCL context to OpenCV. "
   ]
  },
  {
   "cell_type": "code",
   "execution_count": null,
   "id": "59478cd6",
   "metadata": {},
   "outputs": [],
   "source": [
    "cv2.ocl.setUseOpenCL(False)\n",
    "# return video from the first webcam on your computer.\n",
    "cap = cv2.VideoCapture(0)"
   ]
  },
  {
   "cell_type": "markdown",
   "id": "be0c2355",
   "metadata": {},
   "source": [
    "# return video from the first webcam on your computer."
   ]
  },
  {
   "cell_type": "code",
   "execution_count": null,
   "id": "23ccf54c",
   "metadata": {},
   "outputs": [],
   "source": [
    "cap = cv2.VideoCapture(0)"
   ]
  },
  {
   "cell_type": "markdown",
   "id": "2cca2c7e",
   "metadata": {},
   "source": [
    "# Text or heading's"
   ]
  },
  {
   "cell_type": "code",
   "execution_count": null,
   "id": "56bbd83b",
   "metadata": {},
   "outputs": [],
   "source": [
    "st.markdown(\"<h2 style='text-align: center; color: white;'><b>Emotion based music recommendation</b></h2>\", unsafe_allow_html=True)\n",
    "st.markdown(\"<h5 style='text-align: center; color: grey;'><b>Click on the name of recommended song to reach website</b></h5>\", unsafe_allow_html=True)\n"
   ]
  },
  {
   "cell_type": "markdown",
   "id": "d33f9d78",
   "metadata": {},
   "source": [
    "### Streamlit Development"
   ]
  },
  {
   "cell_type": "code",
   "execution_count": null,
   "id": "a19a2880",
   "metadata": {},
   "outputs": [],
   "source": [
    "# Just for indentation\n",
    "col1,col2,col3 = st.columns(3)\n",
    "\n",
    "list = []\n",
    "with col1:\n",
    "    pass\n",
    "with col2:\n",
    "    if st.button('SCAN EMOTION(Click here)'):\n",
    "\n",
    "        # Clearing values\n",
    "        count = 0\n",
    "        list.clear()\n",
    "\n",
    "        while True:\n",
    "            # Basically, ret is a boolean regarding whether or not there was a return at all, at the frame is each frame that is returned.\n",
    "            ret, frame = cap.read()\n",
    "            if not ret:\n",
    "                break\n",
    "            # CascadeClassifier : It is a machine learning based approach where a cascade function is trained from a lot of positive and negative images.\n",
    "            face = cv2.CascadeClassifier('haarcascade_frontalface_default.xml')\n",
    "            # cv2.cvtColor() method is used to convert an image from one color space to another.\n",
    "            gray = cv2.cvtColor(frame, cv2.COLOR_BGR2GRAY)\n",
    "            # Detects objects of different sizes in the input image.\n",
    "            faces = face.detectMultiScale(gray, scaleFactor=1.3, minNeighbors=5)\n",
    "            # Counter\n",
    "            count = count + 1\n",
    "\n",
    "            for (x, y, w, h) in faces:\n",
    "                # Creating rectangle around face\n",
    "                cv2.rectangle(frame, (x, y - 50), (x + w, y + h + 10), (255, 0, 0), 2)\n",
    "                # Taking image out\n",
    "                roi_gray = gray[y:y + h, x:x + w]\n",
    "                # expand_dims() function is used to expand the shape of an array.\n",
    "                cropped_img = np.expand_dims(np.expand_dims(cv2.resize(roi_gray, (48, 48)), -1), 0)\n",
    "\n",
    "                # Predicting model on cropped image\n",
    "                prediction = model.predict(cropped_img)\n",
    "\n",
    "                # Appending emotion to list\n",
    "                max_index = int(np.argmax(prediction))\n",
    "                list.append(emotion_dict[max_index])\n",
    "\n",
    "                # Putting text of emotion on top of rectangle\n",
    "                # fontScale = 1\n",
    "                # thickness = 2\n",
    "                cv2.putText(frame, emotion_dict[max_index], (x + 20, y - 60), cv2.FONT_HERSHEY_SIMPLEX, 1, (255, 255, 255), 2, cv2.LINE_AA)\n",
    "                # Image interpolation occurs when you resize or distort your image from one pixel grid to another. \n",
    "                cv2.imshow('Video', cv2.resize(frame, (1000, 700), interpolation=cv2.INTER_CUBIC))\n",
    "\n",
    "            # For emergency close window\n",
    "            if cv2.waitKey(1) & 0xFF == ord('x'):\n",
    "                break\n",
    "\n",
    "            # To get time for window to stay, so that we take input\n",
    "            if count >= 20:\n",
    "                break\n",
    "\n",
    "        # Destroy cv2 window\n",
    "        cap.release()\n",
    "        cv2.destroyAllWindows()\n",
    "\n",
    "        # Preprocessing list of emotion's\n",
    "        list = pre(list)\n",
    "\n",
    "with col3:\n",
    "    pass\n",
    "\n",
    "# Calling 'fun()' or creating dataframe\n",
    "new_df = fun(list)\n",
    "\n",
    "# Just for separation\n",
    "st.write(\"\")\n",
    "\n",
    "# Normal text\n",
    "st.markdown(\"<h5 style='text-align: center; color: grey;'><b>Recommended song's with artist names</b></h5>\", unsafe_allow_html=True)\n",
    "\n",
    "# Just for separation\n",
    "st.write(\"---------------------------------------------------------------------------------------------------------------------\")\n",
    "\n",
    "try:\n",
    "    # l = iterator over link column in dataframe\n",
    "    # a = iterator over artist column in dataframe\n",
    "    # i = iterator from (0 to 30)\n",
    "    # n = iterator over name column in dataframe\n",
    "    for l,a,n,i in zip(new_df[\"link\"],new_df['artist'],new_df['name'],range(30)):\n",
    "\n",
    "        # Recommended song name\n",
    "        st.markdown(\"\"\"<h4 style='text-align: center;'><a href={}>{} - {}</a></h4>\"\"\".format(l,i+1,n),unsafe_allow_html=True)\n",
    "\n",
    "        # Artist name\n",
    "        st.markdown(\"<h5 style='text-align: center; color: grey;'><i>{}</i></h5>\".format(a), unsafe_allow_html=True)\n",
    "\n",
    "        # Just for separation\n",
    "        st.write(\"---------------------------------------------------------------------------------------------------------------------\")\n",
    "except:\n",
    "    pass"
   ]
  }
 ],
 "metadata": {
  "kernelspec": {
   "display_name": "Python 3 (ipykernel)",
   "language": "python",
   "name": "python3"
  },
  "language_info": {
   "codemirror_mode": {
    "name": "ipython",
    "version": 3
   },
   "file_extension": ".py",
   "mimetype": "text/x-python",
   "name": "python",
   "nbconvert_exporter": "python",
   "pygments_lexer": "ipython3",
   "version": "3.9.7"
  }
 },
 "nbformat": 4,
 "nbformat_minor": 5
}
