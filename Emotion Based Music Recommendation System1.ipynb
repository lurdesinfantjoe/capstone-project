{
 "cells": [
  {
   "cell_type": "markdown",
   "id": "9fac3a96",
   "metadata": {},
   "source": [
    "# Emotion Based Music Recommendation System"
   ]
  },
  {
   "cell_type": "markdown",
   "id": "1c7e9472",
   "metadata": {},
   "source": [
    "## The MuSe dataset contains sentiment information for 90,001 songs. The sentiment conveyed by a song is derived from the social tags given ot that song on Last.fm"
   ]
  },
  {
   "cell_type": "markdown",
   "id": "e5584ed7",
   "metadata": {},
   "source": [
    "### lastfm_url\n",
    " Last.fm page of the song\n",
    "\n",
    "### track\n",
    " Song title\n",
    "\n",
    "### artist\n",
    " Artist name\n",
    "\n",
    "### seeds\n",
    "The initial keyword(s) that seeded the scraping of this song\n",
    "\n",
    "### number_of_emotion_tags\n",
    " Number of words that contributed to the emotion score of the song\n",
    "\n",
    "### valence_tags\n",
    " Pleasantness dimension of the song\n",
    "\n",
    "### arousal_tags\n",
    " Intensity dimension of the song\n",
    "\n",
    "### dominance_tags\n",
    "Control dimension of the song\n",
    "\n",
    "### mbid\n",
    "MusicBrainz Identifier of the song\n",
    "\n",
    "### spotify_id\n",
    " Spotify Identifier of the song"
   ]
  },
  {
   "cell_type": "markdown",
   "id": "d182a721",
   "metadata": {},
   "source": [
    "# Importing modules"
   ]
  },
  {
   "cell_type": "code",
   "execution_count": 1,
   "id": "2934afe0",
   "metadata": {},
   "outputs": [
    {
     "name": "stderr",
     "output_type": "stream",
     "text": [
      "2022-09-06 14:47:27.711 INFO    numexpr.utils: NumExpr defaulting to 8 threads.\n"
     ]
    }
   ],
   "source": [
    "import numpy as np\n",
    "import streamlit as st\n",
    "import pandas as pd\n",
    "import cv2\n",
    "from collections import Counter\n",
    "from keras.models import Sequential\n",
    "from keras.layers import Dense, Dropout, Flatten\n",
    "from keras.layers import Conv2D\n",
    "from keras.layers import MaxPooling2D\n",
    "import seaborn as sns\n",
    "import matplotlib.pyplot as plt"
   ]
  },
  {
   "cell_type": "markdown",
   "id": "6f8dfab5",
   "metadata": {},
   "source": [
    "# Read csv file containing data."
   ]
  },
  {
   "cell_type": "code",
   "execution_count": 2,
   "id": "483c679b",
   "metadata": {},
   "outputs": [],
   "source": [
    "df = pd.read_csv('muse_v3.csv')"
   ]
  },
  {
   "cell_type": "code",
   "execution_count": 16,
   "id": "4cdb03f7",
   "metadata": {
    "scrolled": true
   },
   "outputs": [
    {
     "data": {
      "text/plain": [
       "lastfm_url                    0\n",
       "track                         0\n",
       "artist                        0\n",
       "seeds                         0\n",
       "number_of_emotion_tags        0\n",
       "valence_tags                  0\n",
       "arousal_tags                  0\n",
       "dominance_tags                0\n",
       "mbid                      28784\n",
       "spotify_id                28371\n",
       "genre                      6639\n",
       "link                          0\n",
       "name                          0\n",
       "emotional                     0\n",
       "pleasant                      0\n",
       "dtype: int64"
      ]
     },
     "execution_count": 16,
     "metadata": {},
     "output_type": "execute_result"
    }
   ],
   "source": [
    "df.isnull().sum()"
   ]
  },
  {
   "cell_type": "code",
   "execution_count": 23,
   "id": "773c8147",
   "metadata": {},
   "outputs": [
    {
     "data": {
      "text/plain": [
       "lastfm_url                 object\n",
       "track                      object\n",
       "artist                     object\n",
       "seeds                      object\n",
       "number_of_emotion_tags      int64\n",
       "valence_tags              float64\n",
       "arousal_tags              float64\n",
       "dominance_tags            float64\n",
       "mbid                       object\n",
       "spotify_id                 object\n",
       "genre                      object\n",
       "link                       object\n",
       "name                       object\n",
       "emotional                   int64\n",
       "pleasant                  float64\n",
       "dtype: object"
      ]
     },
     "execution_count": 23,
     "metadata": {},
     "output_type": "execute_result"
    }
   ],
   "source": [
    "df.dtypes"
   ]
  },
  {
   "cell_type": "code",
   "execution_count": 18,
   "id": "ecd7188d",
   "metadata": {},
   "outputs": [
    {
     "data": {
      "text/plain": [
       "0                     rap\n",
       "1                   metal\n",
       "2                     rap\n",
       "3                 hip-hop\n",
       "4                   metal\n",
       "               ...       \n",
       "89996                 NaN\n",
       "89997    progressive rock\n",
       "89998                 NaN\n",
       "89999                 NaN\n",
       "90000             ambient\n",
       "Name: genre, Length: 90001, dtype: object"
      ]
     },
     "execution_count": 18,
     "metadata": {},
     "output_type": "execute_result"
    }
   ],
   "source": [
    "df.genre"
   ]
  },
  {
   "cell_type": "code",
   "execution_count": 19,
   "id": "7326b98b",
   "metadata": {},
   "outputs": [],
   "source": [
    "unique_t1=df.number_of_emotion_tags.unique()"
   ]
  },
  {
   "cell_type": "code",
   "execution_count": 20,
   "id": "123436b2",
   "metadata": {},
   "outputs": [
    {
     "data": {
      "text/plain": [
       "array([ 6,  8,  1, 13,  7,  9, 10, 20,  4,  3,  2, 11,  5, 12, 23, 15, 18,\n",
       "       14, 16, 33, 32, 34, 22, 19, 21, 17, 26, 27, 37, 50, 41, 49, 28, 30,\n",
       "       25, 24, 39, 47, 36, 35, 40, 38, 29, 31], dtype=int64)"
      ]
     },
     "execution_count": 20,
     "metadata": {},
     "output_type": "execute_result"
    }
   ],
   "source": [
    "unique_t1"
   ]
  },
  {
   "cell_type": "code",
   "execution_count": null,
   "id": "3a101f1e",
   "metadata": {},
   "outputs": [],
   "source": [
    "df.dtypes"
   ]
  },
  {
   "cell_type": "code",
   "execution_count": null,
   "id": "e49ebaf4",
   "metadata": {
    "scrolled": true
   },
   "outputs": [],
   "source": [
    "df.columns"
   ]
  },
  {
   "cell_type": "markdown",
   "id": "58cbb810",
   "metadata": {},
   "source": [
    "## Percentage of Null Values"
   ]
  },
  {
   "cell_type": "code",
   "execution_count": 21,
   "id": "29d7c917",
   "metadata": {},
   "outputs": [
    {
     "name": "stdout",
     "output_type": "stream",
     "text": [
      "mbid          31.981867\n",
      "spotify_id    31.522983\n",
      "genre          7.376585\n",
      "lastfm_url     0.000000\n",
      "track          0.000000\n",
      "dtype: float64\n"
     ]
    }
   ],
   "source": [
    "per_null_train = df.isnull().sum().sort_values(0, ascending = False)/(df.shape[0])*100\n",
    "print(per_null_train.head())"
   ]
  },
  {
   "cell_type": "markdown",
   "id": "e9fbb344",
   "metadata": {},
   "source": [
    "## Treating the Null values"
   ]
  },
  {
   "cell_type": "code",
   "execution_count": null,
   "id": "ec989e92",
   "metadata": {
    "scrolled": false
   },
   "outputs": [],
   "source": [
    "df['genre'].mode()"
   ]
  },
  {
   "cell_type": "code",
   "execution_count": null,
   "id": "6d1faf1a",
   "metadata": {},
   "outputs": [],
   "source": [
    "df['genre']=df['genre'].fillna('indie')"
   ]
  },
  {
   "cell_type": "code",
   "execution_count": null,
   "id": "acc4a4b9",
   "metadata": {
    "scrolled": true
   },
   "outputs": [],
   "source": [
    "df['mbid'].mode()"
   ]
  },
  {
   "cell_type": "code",
   "execution_count": null,
   "id": "79301b98",
   "metadata": {},
   "outputs": [],
   "source": [
    "df.dropna(subset=['mbid'], inplace=True)"
   ]
  },
  {
   "cell_type": "code",
   "execution_count": null,
   "id": "3303868c",
   "metadata": {},
   "outputs": [],
   "source": [
    "df.dropna(subset=['spotify_id'], inplace=True)"
   ]
  },
  {
   "cell_type": "code",
   "execution_count": null,
   "id": "fc236dea",
   "metadata": {
    "scrolled": true
   },
   "outputs": [],
   "source": [
    "df.isnull().sum()"
   ]
  },
  {
   "cell_type": "markdown",
   "id": "000732ea",
   "metadata": {},
   "source": [
    "# Displaying the Data"
   ]
  },
  {
   "cell_type": "code",
   "execution_count": null,
   "id": "4245e67a",
   "metadata": {},
   "outputs": [],
   "source": [
    "df.shape"
   ]
  },
  {
   "cell_type": "markdown",
   "id": "1c6184ee",
   "metadata": {},
   "source": [
    "## Data Preprocessing"
   ]
  },
  {
   "cell_type": "markdown",
   "id": "fe1fd335",
   "metadata": {},
   "source": [
    "# Renaming column of dataframe."
   ]
  },
  {
   "cell_type": "code",
   "execution_count": 4,
   "id": "98aaa5ff",
   "metadata": {},
   "outputs": [],
   "source": [
    "df['link'] = df['lastfm_url']\n",
    "df['name'] = df['track']\n",
    "df['emotional'] = df['number_of_emotion_tags']\n",
    "df['pleasant'] = df['valence_tags']"
   ]
  },
  {
   "cell_type": "markdown",
   "id": "1b46adf0",
   "metadata": {},
   "source": [
    "## Insights from the dataset"
   ]
  },
  {
   "cell_type": "markdown",
   "id": "d81a2525",
   "metadata": {},
   "source": [
    "# Taking out useful column."
   ]
  },
  {
   "cell_type": "code",
   "execution_count": 5,
   "id": "c7872ec1",
   "metadata": {},
   "outputs": [],
   "source": [
    "df1 = df[['name','emotional','pleasant','link','artist']]"
   ]
  },
  {
   "cell_type": "code",
   "execution_count": null,
   "id": "1df5a517",
   "metadata": {},
   "outputs": [],
   "source": [
    "df1"
   ]
  },
  {
   "cell_type": "markdown",
   "id": "3ed43d0b",
   "metadata": {},
   "source": [
    "# Sort column based on emotional & pleasant column value.\n",
    "# Pleasant = degree of pleasant in that particular song.\n",
    "# Emotional = emotional word used in that song."
   ]
  },
  {
   "cell_type": "code",
   "execution_count": 6,
   "id": "fed00e58",
   "metadata": {
    "scrolled": false
   },
   "outputs": [
    {
     "data": {
      "text/html": [
       "<div>\n",
       "<style scoped>\n",
       "    .dataframe tbody tr th:only-of-type {\n",
       "        vertical-align: middle;\n",
       "    }\n",
       "\n",
       "    .dataframe tbody tr th {\n",
       "        vertical-align: top;\n",
       "    }\n",
       "\n",
       "    .dataframe thead th {\n",
       "        text-align: right;\n",
       "    }\n",
       "</style>\n",
       "<table border=\"1\" class=\"dataframe\">\n",
       "  <thead>\n",
       "    <tr style=\"text-align: right;\">\n",
       "      <th></th>\n",
       "      <th>index</th>\n",
       "      <th>name</th>\n",
       "      <th>emotional</th>\n",
       "      <th>pleasant</th>\n",
       "      <th>link</th>\n",
       "      <th>artist</th>\n",
       "    </tr>\n",
       "  </thead>\n",
       "  <tbody>\n",
       "    <tr>\n",
       "      <th>0</th>\n",
       "      <td>66148</td>\n",
       "      <td>XO TOUR Llif3</td>\n",
       "      <td>1</td>\n",
       "      <td>2.100000</td>\n",
       "      <td>https://www.last.fm/music/lil%2buzi%2bvert/_/x...</td>\n",
       "      <td>LIL UZI VERT</td>\n",
       "    </tr>\n",
       "    <tr>\n",
       "      <th>1</th>\n",
       "      <td>66199</td>\n",
       "      <td>SAD!</td>\n",
       "      <td>1</td>\n",
       "      <td>2.100000</td>\n",
       "      <td>https://www.last.fm/music/xxxtentacion/_/sad%2521</td>\n",
       "      <td>xxxtentacion</td>\n",
       "    </tr>\n",
       "    <tr>\n",
       "      <th>2</th>\n",
       "      <td>66247</td>\n",
       "      <td>Slow dancing in the dark</td>\n",
       "      <td>1</td>\n",
       "      <td>2.100000</td>\n",
       "      <td>https://www.last.fm/music/joji/_/slow%2bdancin...</td>\n",
       "      <td>Joji</td>\n",
       "    </tr>\n",
       "    <tr>\n",
       "      <th>3</th>\n",
       "      <td>66259</td>\n",
       "      <td>Hold Still</td>\n",
       "      <td>1</td>\n",
       "      <td>2.100000</td>\n",
       "      <td>https://www.last.fm/music/grizzly%2bbear/_/hol...</td>\n",
       "      <td>Grizzly Bear</td>\n",
       "    </tr>\n",
       "    <tr>\n",
       "      <th>4</th>\n",
       "      <td>66276</td>\n",
       "      <td>FML</td>\n",
       "      <td>1</td>\n",
       "      <td>2.100000</td>\n",
       "      <td>https://www.last.fm/music/kanye%2bwest/_/fml</td>\n",
       "      <td>Kanye West</td>\n",
       "    </tr>\n",
       "    <tr>\n",
       "      <th>...</th>\n",
       "      <td>...</td>\n",
       "      <td>...</td>\n",
       "      <td>...</td>\n",
       "      <td>...</td>\n",
       "      <td>...</td>\n",
       "      <td>...</td>\n",
       "    </tr>\n",
       "    <tr>\n",
       "      <th>89996</th>\n",
       "      <td>2140</td>\n",
       "      <td>Three Crosses</td>\n",
       "      <td>49</td>\n",
       "      <td>4.402000</td>\n",
       "      <td>https://www.last.fm/music/alaska/_/three%2bcro...</td>\n",
       "      <td>Alaska</td>\n",
       "    </tr>\n",
       "    <tr>\n",
       "      <th>89997</th>\n",
       "      <td>2142</td>\n",
       "      <td>Noose</td>\n",
       "      <td>49</td>\n",
       "      <td>4.402000</td>\n",
       "      <td>https://www.last.fm/music/alaska/_/noose</td>\n",
       "      <td>Alaska</td>\n",
       "    </tr>\n",
       "    <tr>\n",
       "      <th>89998</th>\n",
       "      <td>2143</td>\n",
       "      <td>Sacking Offence</td>\n",
       "      <td>49</td>\n",
       "      <td>4.402000</td>\n",
       "      <td>https://www.last.fm/music/alaska/_/sacking%2bo...</td>\n",
       "      <td>Alaska</td>\n",
       "    </tr>\n",
       "    <tr>\n",
       "      <th>89999</th>\n",
       "      <td>2144</td>\n",
       "      <td>Blacklist</td>\n",
       "      <td>49</td>\n",
       "      <td>4.402000</td>\n",
       "      <td>https://www.last.fm/music/alaska/_/blacklist</td>\n",
       "      <td>Alaska</td>\n",
       "    </tr>\n",
       "    <tr>\n",
       "      <th>90000</th>\n",
       "      <td>2129</td>\n",
       "      <td>Bloodfeast</td>\n",
       "      <td>50</td>\n",
       "      <td>4.373611</td>\n",
       "      <td>https://www.last.fm/music/alaska/_/bloodfeast</td>\n",
       "      <td>Alaska</td>\n",
       "    </tr>\n",
       "  </tbody>\n",
       "</table>\n",
       "<p>90001 rows × 6 columns</p>\n",
       "</div>"
      ],
      "text/plain": [
       "       index                      name  emotional  pleasant  \\\n",
       "0      66148             XO TOUR Llif3          1  2.100000   \n",
       "1      66199                      SAD!          1  2.100000   \n",
       "2      66247  Slow dancing in the dark          1  2.100000   \n",
       "3      66259                Hold Still          1  2.100000   \n",
       "4      66276                       FML          1  2.100000   \n",
       "...      ...                       ...        ...       ...   \n",
       "89996   2140             Three Crosses         49  4.402000   \n",
       "89997   2142                     Noose         49  4.402000   \n",
       "89998   2143           Sacking Offence         49  4.402000   \n",
       "89999   2144                 Blacklist         49  4.402000   \n",
       "90000   2129                Bloodfeast         50  4.373611   \n",
       "\n",
       "                                                    link        artist  \n",
       "0      https://www.last.fm/music/lil%2buzi%2bvert/_/x...  LIL UZI VERT  \n",
       "1      https://www.last.fm/music/xxxtentacion/_/sad%2521  xxxtentacion  \n",
       "2      https://www.last.fm/music/joji/_/slow%2bdancin...          Joji  \n",
       "3      https://www.last.fm/music/grizzly%2bbear/_/hol...  Grizzly Bear  \n",
       "4           https://www.last.fm/music/kanye%2bwest/_/fml    Kanye West  \n",
       "...                                                  ...           ...  \n",
       "89996  https://www.last.fm/music/alaska/_/three%2bcro...        Alaska  \n",
       "89997           https://www.last.fm/music/alaska/_/noose        Alaska  \n",
       "89998  https://www.last.fm/music/alaska/_/sacking%2bo...        Alaska  \n",
       "89999       https://www.last.fm/music/alaska/_/blacklist        Alaska  \n",
       "90000      https://www.last.fm/music/alaska/_/bloodfeast        Alaska  \n",
       "\n",
       "[90001 rows x 6 columns]"
      ]
     },
     "execution_count": 6,
     "metadata": {},
     "output_type": "execute_result"
    }
   ],
   "source": [
    "df1 = df1.sort_values(by=[\"emotional\", \"pleasant\"])\n",
    "df1.reset_index()"
   ]
  },
  {
   "cell_type": "code",
   "execution_count": 29,
   "id": "162ff76a",
   "metadata": {},
   "outputs": [
    {
     "data": {
      "text/plain": [
       "志方あきこ              302\n",
       "Skerror            284\n",
       "Robbie Williams    207\n",
       "Bob Dylan          190\n",
       "Warren Zevon       142\n",
       "Name: artist, dtype: int64"
      ]
     },
     "execution_count": 29,
     "metadata": {},
     "output_type": "execute_result"
    }
   ],
   "source": [
    "df1['artist'].value_counts().head()"
   ]
  },
  {
   "cell_type": "code",
   "execution_count": 31,
   "id": "1f0e4406",
   "metadata": {
    "scrolled": true
   },
   "outputs": [
    {
     "data": {
      "text/plain": [
       "array([2.1       , 2.35      , 2.41      , ..., 4.11172414, 2.8757199 ,\n",
       "       4.37361111])"
      ]
     },
     "execution_count": 31,
     "metadata": {},
     "output_type": "execute_result"
    }
   ],
   "source": [
    "df1['pleasant'].unique()"
   ]
  },
  {
   "cell_type": "code",
   "execution_count": null,
   "id": "c23932df",
   "metadata": {},
   "outputs": [],
   "source": [
    "df1"
   ]
  },
  {
   "cell_type": "markdown",
   "id": "ea8315e1",
   "metadata": {},
   "source": [
    "# Getting out the Columns"
   ]
  },
  {
   "cell_type": "code",
   "execution_count": null,
   "id": "b5e2f312",
   "metadata": {
    "scrolled": true
   },
   "outputs": [],
   "source": [
    "df1.columns"
   ]
  },
  {
   "cell_type": "code",
   "execution_count": null,
   "id": "19a987ca",
   "metadata": {
    "scrolled": true
   },
   "outputs": [],
   "source": [
    "df1.info()"
   ]
  },
  {
   "cell_type": "code",
   "execution_count": null,
   "id": "5962ca2b",
   "metadata": {
    "scrolled": true
   },
   "outputs": [],
   "source": [
    "df1.shape"
   ]
  },
  {
   "cell_type": "code",
   "execution_count": null,
   "id": "747ce1aa",
   "metadata": {
    "scrolled": true
   },
   "outputs": [],
   "source": [
    "\n",
    "df1.describe()"
   ]
  },
  {
   "cell_type": "markdown",
   "id": "a6ee8412",
   "metadata": {},
   "source": [
    "## Checking For Null Values"
   ]
  },
  {
   "cell_type": "code",
   "execution_count": null,
   "id": "1ab3a7e0",
   "metadata": {
    "scrolled": false
   },
   "outputs": [],
   "source": [
    "df1.isnull().sum()"
   ]
  },
  {
   "cell_type": "code",
   "execution_count": null,
   "id": "d938ba07",
   "metadata": {
    "scrolled": true
   },
   "outputs": [],
   "source": [
    "sns.heatmap(df1.isnull(),yticklabels=False,cmap=\"viridis\")"
   ]
  },
  {
   "cell_type": "markdown",
   "id": "24d8fb64",
   "metadata": {},
   "source": [
    "\n",
    "#### The Dataset muse does not have the null values"
   ]
  },
  {
   "cell_type": "markdown",
   "id": "188682b4",
   "metadata": {},
   "source": [
    "# Diving dataframe based on emotional & pleasant value in sorted order."
   ]
  },
  {
   "cell_type": "code",
   "execution_count": 7,
   "id": "672a1448",
   "metadata": {},
   "outputs": [],
   "source": [
    "df_sad = df[:18000]\n",
    "df_fear = df[18000:36000]\n",
    "df_angry = df[36000:54000]\n",
    "df_neutral = df[54000:72000]\n",
    "df_happy = df[72000:]"
   ]
  },
  {
   "cell_type": "code",
   "execution_count": null,
   "id": "4e3259e6",
   "metadata": {},
   "outputs": [],
   "source": [
    "df_sad"
   ]
  },
  {
   "cell_type": "markdown",
   "id": "398cb157",
   "metadata": {},
   "source": [
    "# Task of function 'fun' is to take list of unique emotions & return dataframe of 30 rows."
   ]
  },
  {
   "cell_type": "code",
   "execution_count": 8,
   "id": "2778f504",
   "metadata": {},
   "outputs": [],
   "source": [
    "# Task of function 'fun' is to take list of unique emotions & return dataframe of 30 rows.\n",
    "def fun(list):\n",
    "\n",
    "    # Creating Empty Dataframe\n",
    "    data = pd.DataFrame()\n",
    "\n",
    "    # If list of emotion's contain only 1 emotion\n",
    "    if len(list) == 1:\n",
    "        # Emotion name\n",
    "        v = list[0]\n",
    "\n",
    "        # Number of rows for this emotion\n",
    "        t = 30\n",
    "\n",
    "        if v == 'Neutral':\n",
    "            # Adding rows to data\n",
    "            data = data.append(df_neutral.sample(n=t))\n",
    "\n",
    "        elif v == 'Angry':\n",
    "            # Adding rows to data\n",
    "            data = data.append(df_angry.sample(n=t))\n",
    "\n",
    "        elif v == 'fear':\n",
    "            # Adding rows to data\n",
    "            data = data.append(df_fear.sample(n=t))\n",
    "\n",
    "        elif v == 'happy':\n",
    "            # Adding rows to data\n",
    "            data = data.append(df_happy.sample(n=t))\n",
    "\n",
    "        else:\n",
    "            # Adding rows to data\n",
    "            data = data.append(df_sad.sample(n=t))\n",
    "\n",
    "    elif len(list) == 2:\n",
    "        # Row's count per emotion\n",
    "        times = [20,10]\n",
    "\n",
    "        for i in range(len(list)):\n",
    "            # Emotion name\n",
    "            v = list[i]\n",
    "\n",
    "            # Number of rows for this emotion\n",
    "            t = times[i]\n",
    "\n",
    "            if v == 'Neutral':\n",
    "                # Adding rows to data\n",
    "                data = data.append(df_neutral.sample(n=t))\n",
    "\n",
    "            elif v == 'Angry':\n",
    "                # Adding rows to data\n",
    "                data = data.append(df_angry.sample(n=t))\n",
    "\n",
    "            elif v == 'fear':\n",
    "                # Adding rows to data\n",
    "                data = data.append(df_fear.sample(n=t))\n",
    "\n",
    "            elif v == 'happy':\n",
    "                # Adding rows to data\n",
    "                data = data.append(df_happy.sample(n=t))\n",
    "\n",
    "            else:\n",
    "                # Adding rows to data\n",
    "                data = data.append(df_sad.sample(n=t))\n",
    "\n",
    "    elif len(list) == 3:\n",
    "        # Row's count per emotion\n",
    "        times = [15,10,5]\n",
    "\n",
    "        for i in range(len(list)):\n",
    "            # Emotion name\n",
    "            v = list[i]\n",
    "\n",
    "            # Number of rows for this emotion\n",
    "            t = times[i]\n",
    "\n",
    "            if v == 'Neutral':\n",
    "                # Adding rows to data\n",
    "                data = data.append(df_neutral.sample(n=t))\n",
    "\n",
    "            elif v == 'Angry':\n",
    "                # Adding rows to data\n",
    "                data = data.append(df_angry.sample(n=t))\n",
    "\n",
    "            elif v == 'fear':\n",
    "                # Adding rows to data\n",
    "                data = data.append(df_fear.sample(n=t))\n",
    "\n",
    "            elif v == 'happy':\n",
    "                # Adding rows to data\n",
    "                data = data.append(df_happy.sample(n=t))\n",
    "\n",
    "            else:\n",
    "                # Adding rows to data\n",
    "                data = data.append(df_sad.sample(n=t))\n",
    "\n",
    "    elif len(list) == 4:\n",
    "        # Row's count per emotion\n",
    "        times = [10,9,8,3]\n",
    "\n",
    "        for i in range(len(list)):\n",
    "            # Emotion name\n",
    "            v = list[i]\n",
    "\n",
    "            # Number of rows for this emotion\n",
    "            t = times[i]\n",
    "\n",
    "            if v == 'Neutral':\n",
    "                # Adding rows to data\n",
    "                data = data.append(df_neutral.sample(n=t))\n",
    "\n",
    "            elif v == 'Angry':\n",
    "                # Adding rows to data\n",
    "                data = data.append(df_angry.sample(n=t))\n",
    "\n",
    "            elif v == 'fear':\n",
    "                # Adding rows to data\n",
    "                data = data.append(df_fear.sample(n=t))\n",
    "\n",
    "            elif v == 'happy':\n",
    "                # Adding rows to data\n",
    "                data = data.append(df_happy.sample(n=t))\n",
    "\n",
    "            else:\n",
    "                # Adding rows to data\n",
    "                data = data.append(df_sad.sample(n=t))\n",
    "    else:\n",
    "        # Row's count per emotion\n",
    "        times = [10,7,6,5,2]\n",
    "\n",
    "        for i in range(len(list)):\n",
    "            # Emotion name\n",
    "            v = list[i]\n",
    "\n",
    "            # Number of rows for this emotion\n",
    "            t = times[i]\n",
    "\n",
    "            if v == 'Neutral':\n",
    "                # Adding rows to data\n",
    "                data = data.append(df_neutral.sample(n=t))\n",
    "\n",
    "            elif v == 'Angry':\n",
    "                # Adding rows to data\n",
    "                data = data.append(df_angry.sample(n=t))\n",
    "\n",
    "            elif v == 'fear':\n",
    "                # Adding rows to data\n",
    "                data = data.append(df_fear.sample(n=t))\n",
    "\n",
    "            elif v == 'happy':\n",
    "                # Adding rows to data\n",
    "                data = data.append(df_happy.sample(n=t))\n",
    "\n",
    "            else:\n",
    "                # Adding rows to data\n",
    "                data = data.append(df_sad.sample(n=t))\n",
    "    return data"
   ]
  },
  {
   "cell_type": "code",
   "execution_count": null,
   "id": "b17f576b",
   "metadata": {},
   "outputs": [],
   "source": [
    "\n",
    "# Task of function 'pre' is to take list of emotions (containing duplicate also) &\n",
    "#return unique list of emotion in sorted order based on count.\n",
    "def pre(l):\n",
    "    # result contain sorted emotion's(duplicate present if any)\n",
    "    # Counter has a most_common() method that returns a list of tuples of (element, count) sorted by counts.\n",
    "    result = [item for items, c in Counter(l).most_common()\n",
    "              for item in [items] * c]\n",
    "\n",
    "    # Creating empty unique list\n",
    "    ul = []\n",
    "\n",
    "    for x in result:\n",
    "        if x not in ul:\n",
    "            ul.append(x)\n",
    "    return ul\n",
    "\n",
    "\n",
    "# Creating model\n",
    "# kerel_size = specifying the height and width of the 2D convolution window.\n",
    "# Convolution window : A convolution layer defines a window by which we examine a subset of the image. \n",
    "\"\"\"RELU : The rectified linear activation function or ReLU for short is a piecewise linear function that will output the input directly if it is positive, \n",
    "otherwise, it will output zero.\"\"\"\n",
    "model = Sequential()\n",
    "model.add(Conv2D(32, kernel_size=(3, 3), activation='relu', input_shape=(48,48,1)))\n",
    "model.add(Conv2D(64, kernel_size=(3, 3), activation='relu'))\n",
    "# MaxPooling2D : Max pooling is a pooling operation that selects the maximum element from the region of the feature map covered by the filter.\n",
    "model.add(MaxPooling2D(pool_size=(2, 2)))\n",
    "# Dropout is a technique where randomly selected neurons are ignored during training.Dropout is a technique where randomly selected neurons are ignored during training.\n",
    "model.add(Dropout(0.25))\n",
    "model.add(Conv2D(128, kernel_size=(3, 3), activation='relu'))\n",
    "model.add(MaxPooling2D(pool_size=(2, 2)))\n",
    "model.add(Conv2D(128, kernel_size=(3, 3), activation='relu'))\n",
    "model.add(MaxPooling2D(pool_size=(2, 2)))\n",
    "model.add(Dropout(0.25))\n",
    "model.add(Flatten())\n",
    "model.add(Dense(1024, activation='relu'))\n",
    "model.add(Dropout(0.5))\n",
    "# Softmax : It is mainly used to normalize neural networks output to fit between zero and one.\n",
    "model.add(Dense(7, activation='softmax'))\n",
    "\n",
    "# Loading weights from pretrained model\n",
    "# Model Reference : https://github.com/atulapra/Emotion-detection\n",
    "model.load_weights('model.h5')\n",
    "\n",
    "emotion_dict = {0: \"Angry\", 1: \"Disgusted\", 2: \"Fearful\", 3: \"Happy\", 4: \"Neutral\", 5: \"Sad\", 6: \"Surprised\"}\n",
    "\n",
    "# Not Attach OpenCL context to OpenCV.\n",
    "cv2.ocl.setUseOpenCL(False)\n",
    "# return video from the first webcam on your computer.\n",
    "cap = cv2.VideoCapture(0)\n",
    "\n",
    "# Text or heading's\n",
    "st.markdown(\"<h2 style='text-align: center; color: white;'><b>Emotion based music recommendation</b></h2>\", unsafe_allow_html=True)\n",
    "st.markdown(\"<h5 style='text-align: center; color: grey;'><b>Click on the name of recommended song to reach website</b></h5>\", unsafe_allow_html=True)\n",
    "\n",
    "# Just for indentation\n",
    "col1,col2,col3 = st.columns(3)\n",
    "\n",
    "list = []\n",
    "with col1:\n",
    "    pass\n",
    "with col2:\n",
    "    if st.button('SCAN EMOTION(Click here)'):\n",
    "\n",
    "        # Clearing values\n",
    "        count = 0\n",
    "        list.clear()\n",
    "\n",
    "        while True:\n",
    "            # Basically, ret is a boolean regarding whether or not there was a return at all, at the frame is each frame that is returned.\n",
    "            ret, frame = cap.read()\n",
    "            if not ret:\n",
    "                break\n",
    "            # CascadeClassifier : It is a machine learning based approach where a cascade function is trained from a lot of positive and negative images.\n",
    "            face = cv2.CascadeClassifier('haarcascade_frontalface_default.xml')\n",
    "            # cv2.cvtColor() method is used to convert an image from one color space to another.\n",
    "            gray = cv2.cvtColor(frame, cv2.COLOR_BGR2GRAY)\n",
    "            # Detects objects of different sizes in the input image.\n",
    "            faces = face.detectMultiScale(gray, scaleFactor=1.3, minNeighbors=5)\n",
    "            # Counter\n",
    "            count = count + 1\n",
    "\n",
    "            for (x, y, w, h) in faces:\n",
    "                # Creating rectangle around face\n",
    "                cv2.rectangle(frame, (x, y - 50), (x + w, y + h + 10), (255, 0, 0), 2)\n",
    "                # Taking image out\n",
    "                roi_gray = gray[y:y + h, x:x + w]\n",
    "                # expand_dims() function is used to expand the shape of an array.\n",
    "                cropped_img = np.expand_dims(np.expand_dims(cv2.resize(roi_gray, (48, 48)), -1), 0)\n",
    "\n",
    "                # Predicting model on cropped image\n",
    "                prediction = model.predict(cropped_img)\n",
    "\n",
    "                # Appending emotion to list\n",
    "                max_index = int(np.argmax(prediction))\n",
    "                list.append(emotion_dict[max_index])\n",
    "\n",
    "                # Putting text of emotion on top of rectangle\n",
    "                # fontScale = 1\n",
    "                # thickness = 2\n",
    "                cv2.putText(frame, emotion_dict[max_index], (x + 20, y - 60), cv2.FONT_HERSHEY_SIMPLEX, 1, (255, 255, 255), 2, cv2.LINE_AA)\n",
    "                # Image interpolation occurs when you resize or distort your image from one pixel grid to another. \n",
    "                cv2.imshow('Video', cv2.resize(frame, (1000, 700), interpolation=cv2.INTER_CUBIC))\n",
    "\n",
    "            # For emergency close window\n",
    "            if cv2.waitKey(1) & 0xFF == ord('x'):\n",
    "                break\n",
    "\n",
    "            # To get time for window to stay, so that we take input\n",
    "            if count >= 20:\n",
    "                break\n",
    "\n",
    "        # Destroy cv2 window\n",
    "        cap.release()\n",
    "        cv2.destroyAllWindows()\n",
    "\n",
    "        # Preprocessing list of emotion's\n",
    "        list = pre(list)\n",
    "\n",
    "with col3:\n",
    "    pass\n",
    "\n",
    "# Calling 'fun()' or creating dataframe\n",
    "new_df = fun(list)\n",
    "\n",
    "# Just for separation\n",
    "st.write(\"\")\n",
    "\n",
    "# Normal text\n",
    "st.markdown(\"<h5 style='text-align: center; color: grey;'><b>Recommended song's with artist names</b></h5>\", unsafe_allow_html=True)\n",
    "\n",
    "# Just for separation\n",
    "st.write(\"---------------------------------------------------------------------------------------------------------------------\")\n",
    "\n",
    "try:\n",
    "    # l = iterator over link column in dataframe\n",
    "    # a = iterator over artist column in dataframe\n",
    "    # i = iterator from (0 to 30)\n",
    "    # n = iterator over name column in dataframe\n",
    "    for l,a,n,i in zip(new_df[\"link\"],new_df['artist'],new_df['name'],range(30)):\n",
    "\n",
    "        # Recommended song name\n",
    "        st.markdown(\"\"\"<h4 style='text-align: center;'><a href={}>{} - {}</a></h4>\"\"\".format(l,i+1,n),unsafe_allow_html=True)\n",
    "\n",
    "        # Artist name\n",
    "        st.markdown(\"<h5 style='text-align: center; color: grey;'><i>{}</i></h5>\".format(a), unsafe_allow_html=True)\n",
    "\n",
    "        # Just for separation\n",
    "        st.write(\"---------------------------------------------------------------------------------------------------------------------\")\n",
    "except:\n",
    "    pass\n",
    "\n"
   ]
  },
  {
   "cell_type": "code",
   "execution_count": 11,
   "id": "d675a80b",
   "metadata": {},
   "outputs": [],
   "source": [
    "# Creating model\n",
    "# kerel_size = specifying the height and width of the 2D convolution window.\n",
    "# Convolution window : A convolution layer defines a window by which we examine a subset of the image. \n",
    "\"\"\"RELU : The rectified linear activation function or ReLU for short is a piecewise linear function that will output the input directly if it is positive, \n",
    "otherwise, it will output zero.\"\"\"\n",
    "model = Sequential()\n",
    "model.add(Conv2D(32, kernel_size=(3, 3), activation='relu', input_shape=(48,48,1)))\n",
    "model.add(Conv2D(64, kernel_size=(3, 3), activation='relu'))\n",
    "# MaxPooling2D : Max pooling is a pooling operation that selects the maximum element from the region of the feature map covered by the filter.\n",
    "model.add(MaxPooling2D(pool_size=(2, 2)))\n",
    "# Dropout is a technique where randomly selected neurons are ignored during training.Dropout is a technique where randomly selected neurons are ignored during training.\n",
    "model.add(Dropout(0.25))\n",
    "model.add(Conv2D(128, kernel_size=(3, 3), activation='relu'))\n",
    "model.add(MaxPooling2D(pool_size=(2, 2)))\n",
    "model.add(Conv2D(128, kernel_size=(3, 3), activation='relu'))\n",
    "model.add(MaxPooling2D(pool_size=(2, 2)))\n",
    "model.add(Dropout(0.25))\n",
    "model.add(Flatten())\n",
    "model.add(Dense(1024, activation='relu'))\n",
    "model.add(Dropout(0.5))\n",
    "# Softmax : It is mainly used to normalize neural networks output to fit between zero and one.\n",
    "model.add(Dense(7, activation='softmax'))"
   ]
  },
  {
   "cell_type": "code",
   "execution_count": 13,
   "id": "418b2c15",
   "metadata": {},
   "outputs": [
    {
     "name": "stderr",
     "output_type": "stream",
     "text": [
      "2022-09-06 14:50:06.804 \n",
      "  \u001b[33m\u001b[1mWarning:\u001b[0m to view this Streamlit app on a browser, run it with the following\n",
      "  command:\n",
      "\n",
      "    streamlit run C:\\New folder\\lib\\site-packages\\ipykernel_launcher.py [ARGUMENTS]\n"
     ]
    }
   ],
   "source": [
    "emotion_dict = {0: \"Angry\", 1: \"Disgusted\", 2: \"Fearful\", 3: \"Happy\", 4: \"Neutral\", 5: \"Sad\", 6: \"Surprised\"}\n",
    "\n",
    "# Not Attach OpenCL context to OpenCV.\n",
    "cv2.ocl.setUseOpenCL(False)\n",
    "# return video from the first webcam on your computer.\n",
    "cap = cv2.VideoCapture(0)\n",
    "\n",
    "# Text or heading's\n",
    "st.markdown(\"<h2 style='text-align: center; color: white;'><b>Emotion based music recommendation</b></h2>\", unsafe_allow_html=True)\n",
    "st.markdown(\"<h5 style='text-align: center; color: grey;'><b>Click on the name of recommended song to reach website</b></h5>\", unsafe_allow_html=True)\n",
    "\n",
    "# Just for indentation\n",
    "col1,col2,col3 = st.columns(3)\n",
    "\n",
    "list = []\n",
    "with col1:\n",
    "    pass\n",
    "with col2:\n",
    "    if st.button('SCAN EMOTION(Click here)'):\n",
    "\n",
    "        # Clearing values\n",
    "        count = 0\n",
    "        list.clear()\n",
    "\n",
    "        while True:\n",
    "            # Basically, ret is a boolean regarding whether or not there was a return at all, at the frame is each frame that is returned.\n",
    "            ret, frame = cap.read()\n",
    "            if not ret:\n",
    "                break\n",
    "            # CascadeClassifier : It is a machine learning based approach where a cascade function is trained from a lot of positive and negative images.\n",
    "            face = cv2.CascadeClassifier('haarcascade_frontalface_default.xml')\n",
    "            # cv2.cvtColor() method is used to convert an image from one color space to another.\n",
    "            gray = cv2.cvtColor(frame, cv2.COLOR_BGR2GRAY)\n",
    "            # Detects objects of different sizes in the input image.\n",
    "            faces = face.detectMultiScale(gray, scaleFactor=1.3, minNeighbors=5)\n",
    "            # Counter\n",
    "            count = count + 1\n",
    "\n",
    "            for (x, y, w, h) in faces:\n",
    "                # Creating rectangle around face\n",
    "                cv2.rectangle(frame, (x, y - 50), (x + w, y + h + 10), (255, 0, 0), 2)\n",
    "                # Taking image out\n",
    "                roi_gray = gray[y:y + h, x:x + w]\n",
    "                # expand_dims() function is used to expand the shape of an array.\n",
    "                cropped_img = np.expand_dims(np.expand_dims(cv2.resize(roi_gray, (48, 48)), -1), 0)\n",
    "\n",
    "                # Predicting model on cropped image\n",
    "                prediction = model.predict(cropped_img)\n",
    "\n",
    "                # Appending emotion to list\n",
    "                max_index = int(np.argmax(prediction))\n",
    "                list.append(emotion_dict[max_index])\n",
    "\n",
    "                # Putting text of emotion on top of rectangle\n",
    "                # fontScale = 1\n",
    "                # thickness = 2\n",
    "                cv2.putText(frame, emotion_dict[max_index], (x + 20, y - 60), cv2.FONT_HERSHEY_SIMPLEX, 1, (255, 255, 255), 2, cv2.LINE_AA)\n",
    "                # Image interpolation occurs when you resize or distort your image from one pixel grid to another. \n",
    "                cv2.imshow('Video', cv2.resize(frame, (1000, 700), interpolation=cv2.INTER_CUBIC))\n",
    "\n",
    "            # For emergency close window\n",
    "            if cv2.waitKey(1) & 0xFF == ord('x'):\n",
    "                break\n",
    "\n",
    "            # To get time for window to stay, so that we take input\n",
    "            if count >= 20:\n",
    "                break\n",
    "\n",
    "        # Destroy cv2 window\n",
    "        cap.release()\n",
    "        cv2.destroyAllWindows()\n",
    "\n",
    "        # Preprocessing list of emotion's\n",
    "        list = pre(list)\n",
    "\n",
    "with col3:\n",
    "    pass\n",
    "\n",
    "# Calling 'fun()' or creating dataframe\n",
    "new_df = fun(list)\n",
    "\n",
    "# Just for separation\n",
    "st.write(\"\")\n",
    "\n",
    "# Normal text\n",
    "st.markdown(\"<h5 style='text-align: center; color: grey;'><b>Recommended song's with artist names</b></h5>\", unsafe_allow_html=True)\n",
    "\n",
    "# Just for separation\n",
    "st.write(\"---------------------------------------------------------------------------------------------------------------------\")\n",
    "\n",
    "try:\n",
    "    # l = iterator over link column in dataframe\n",
    "    # a = iterator over artist column in dataframe\n",
    "    # i = iterator from (0 to 30)\n",
    "    # n = iterator over name column in dataframe\n",
    "    for l,a,n,i in zip(new_df[\"link\"],new_df['artist'],new_df['name'],range(30)):\n",
    "\n",
    "        # Recommended song name\n",
    "        st.markdown(\"\"\"<h4 style='text-align: center;'><a href={}>{} - {}</a></h4>\"\"\".format(l,i+1,n),unsafe_allow_html=True)\n",
    "\n",
    "        # Artist name\n",
    "        st.markdown(\"<h5 style='text-align: center; color: grey;'><i>{}</i></h5>\".format(a), unsafe_allow_html=True)\n",
    "\n",
    "        # Just for separation\n",
    "        st.write(\"---------------------------------------------------------------------------------------------------------------------\")\n",
    "except:\n",
    "    pass\n",
    "\n"
   ]
  },
  {
   "cell_type": "code",
   "execution_count": 14,
   "id": "130e0b99",
   "metadata": {},
   "outputs": [
    {
     "ename": "NameError",
     "evalue": "name 'data' is not defined",
     "output_type": "error",
     "traceback": [
      "\u001b[1;31m---------------------------------------------------------------------------\u001b[0m",
      "\u001b[1;31mNameError\u001b[0m                                 Traceback (most recent call last)",
      "\u001b[1;32m~\\AppData\\Local\\Temp/ipykernel_6988/391604064.py\u001b[0m in \u001b[0;36m<module>\u001b[1;34m\u001b[0m\n\u001b[1;32m----> 1\u001b[1;33m \u001b[0mdata\u001b[0m\u001b[1;33m\u001b[0m\u001b[1;33m\u001b[0m\u001b[0m\n\u001b[0m",
      "\u001b[1;31mNameError\u001b[0m: name 'data' is not defined"
     ]
    }
   ],
   "source": [
    "data"
   ]
  },
  {
   "cell_type": "code",
   "execution_count": 15,
   "id": "8d570c53",
   "metadata": {},
   "outputs": [
    {
     "data": {
      "text/plain": [
       "[]"
      ]
     },
     "execution_count": 15,
     "metadata": {},
     "output_type": "execute_result"
    }
   ],
   "source": []
  },
  {
   "cell_type": "code",
   "execution_count": null,
   "id": "4ba25811",
   "metadata": {},
   "outputs": [],
   "source": []
  },
  {
   "cell_type": "code",
   "execution_count": null,
   "id": "95b8d2ad",
   "metadata": {},
   "outputs": [],
   "source": [
    "data"
   ]
  },
  {
   "cell_type": "markdown",
   "id": "6922d8bf",
   "metadata": {},
   "source": [
    "## Task of function 'pre' is to take list of emotions (containing duplicate also) &\n",
    "### return unique list of emotion in sorted order based on count."
   ]
  },
  {
   "cell_type": "code",
   "execution_count": 9,
   "id": "adc4d63f",
   "metadata": {},
   "outputs": [],
   "source": [
    "def pre(l):\n",
    "    # result contain sorted emotion's(duplicate present if any)\n",
    "    # Counter has a most_common() method that returns a list of tuples of (element, count) sorted by counts.\n",
    "    result = [item for items, c in Counter(l).most_common()\n",
    "              for item in [items] * c]\n",
    "\n",
    "    # Creating empty unique list\n",
    "    ul = []\n",
    "\n",
    "    for x in result:\n",
    "        if x not in ul:\n",
    "            ul.append(x)\n",
    "    return ul"
   ]
  },
  {
   "cell_type": "code",
   "execution_count": null,
   "id": "4c57770e",
   "metadata": {},
   "outputs": [],
   "source": []
  },
  {
   "cell_type": "code",
   "execution_count": null,
   "id": "fbc3b958",
   "metadata": {},
   "outputs": [],
   "source": []
  },
  {
   "cell_type": "code",
   "execution_count": null,
   "id": "e6ed0922",
   "metadata": {},
   "outputs": [],
   "source": []
  },
  {
   "cell_type": "markdown",
   "id": "dd3b4f5f",
   "metadata": {},
   "source": [
    "## TOP 10 Artist"
   ]
  },
  {
   "cell_type": "code",
   "execution_count": null,
   "id": "f77e060d",
   "metadata": {},
   "outputs": [],
   "source": [
    "a=df.artist.value_counts()[:10]\n",
    "a1=a.head(15)\n",
    "a1"
   ]
  },
  {
   "cell_type": "code",
   "execution_count": null,
   "id": "bdece158",
   "metadata": {},
   "outputs": [],
   "source": [
    "ind=a.index\n",
    "ls=[]\n",
    "for i in range(len(a)):\n",
    "    t=[ind[i]]*a[i]\n",
    "    ls+=t\n",
    "plt.subplots(figsize=(25,5))\n",
    "sns.countplot(ls)\n",
    "plt.title(\"Top 10 Genres\")"
   ]
  },
  {
   "cell_type": "markdown",
   "id": "5c604865",
   "metadata": {},
   "source": [
    "### Analysing the pleasant with the emotional in the dataset"
   ]
  },
  {
   "cell_type": "code",
   "execution_count": 32,
   "id": "4de2ea4b",
   "metadata": {
    "scrolled": true
   },
   "outputs": [
    {
     "data": {
      "text/plain": [
       "<Figure size 1800x1800 with 0 Axes>"
      ]
     },
     "metadata": {},
     "output_type": "display_data"
    },
    {
     "data": {
      "image/png": "[encoded data removed]",
      "text/plain": [
       "<Figure size 1080x360 with 1 Axes>"
      ]
     },
     "metadata": {
      "needs_background": "light"
     },
     "output_type": "display_data"
    }
   ],
   "source": [
    "plt.figure(figsize=(25,25))\n",
    "sns.relplot(x=\"emotional\", y=\"pleasant\", data=df1,kind='line',aspect=3,color=\"Red\")\n",
    "plt.show()"
   ]
  },
  {
   "cell_type": "markdown",
   "id": "ecfc6ce7",
   "metadata": {},
   "source": [
    "### Top Genre "
   ]
  },
  {
   "cell_type": "code",
   "execution_count": null,
   "id": "b9ca8311",
   "metadata": {
    "scrolled": true
   },
   "outputs": [],
   "source": [
    "c=df.genre.value_counts()[:10]\n",
    "pub=c.head(15)\n",
    "pub"
   ]
  },
  {
   "cell_type": "code",
   "execution_count": null,
   "id": "d7d96b4d",
   "metadata": {},
   "outputs": [],
   "source": [
    "pub"
   ]
  },
  {
   "cell_type": "code",
   "execution_count": null,
   "id": "7fe74e17",
   "metadata": {
    "scrolled": true
   },
   "outputs": [],
   "source": [
    "ind=c.index\n",
    "ls=[]\n",
    "for i in range(len(c)):\n",
    "    t=[ind[i]]*c[i]\n",
    "    ls+=t\n",
    "plt.subplots(figsize=(25,5))\n",
    "sns.countplot(ls)\n",
    "plt.title(\"Top 10 Genres\")"
   ]
  },
  {
   "cell_type": "markdown",
   "id": "50fccee3",
   "metadata": {},
   "source": [
    "## Top Sentiments"
   ]
  },
  {
   "cell_type": "code",
   "execution_count": null,
   "id": "ee90841a",
   "metadata": {
    "scrolled": false
   },
   "outputs": [],
   "source": [
    "s=df.seeds.value_counts()[:10]\n",
    "senti=s.head(15)\n",
    "senti"
   ]
  },
  {
   "cell_type": "code",
   "execution_count": null,
   "id": "b20cb923",
   "metadata": {},
   "outputs": [],
   "source": [
    "ind=s.index\n",
    "ls=[]\n",
    "for i in range(len(s)):\n",
    "    t=[ind[i]]*s[i]\n",
    "    ls+=t\n",
    "plt.subplots(figsize=(25,5))\n",
    "sns.countplot(ls)\n",
    "plt.title(\"Top 10 seeds\")"
   ]
  },
  {
   "cell_type": "code",
   "execution_count": 10,
   "id": "9a436cfa",
   "metadata": {},
   "outputs": [],
   "source": [
    "import tensorflow as tf\n",
    "from tensorflow.keras.utils import to_categorical\n",
    "from keras.models import load_model\n",
    "import warnings\n",
    "from tensorflow.keras.models import Sequential\n",
    "from keras.callbacks import EarlyStopping\n",
    "from keras import regularizers\n",
    "from keras.callbacks import ModelCheckpoint,EarlyStopping\n",
    "from tensorflow.keras.optimizers import Adam,RMSprop,SGD,Adamax\n",
    "from keras.preprocessing.image import ImageDataGenerator,load_img\n",
    "from keras.utils.vis_utils import plot_model\n",
    "from keras.layers import Conv2D, MaxPool2D, Flatten,Dense,Dropout,BatchNormalization,MaxPooling2D,Activation,Input\n",
    "from sklearn.model_selection import train_test_split\n",
    "warnings.simplefilter(\"ignore\")\n",
    "from keras.models import Model\n",
    "from keras.layers import LeakyReLU\n",
    "from sklearn.model_selection import StratifiedKFold , KFold ,RepeatedKFold\n",
    "from sklearn.model_selection import train_test_split\n",
    "from sklearn.preprocessing import LabelEncoder\n",
    "from sklearn.metrics import accuracy_score\n",
    "from keras.layers.merge import concatenate\n",
    "from keras.regularizers import l1, l2\n",
    "import plotly.express as px\n",
    "from matplotlib import pyplot as plt\n",
    "from sklearn.metrics import confusion_matrix"
   ]
  },
  {
   "cell_type": "markdown",
   "id": "445522c1",
   "metadata": {},
   "source": [
    "### Reading Dataset"
   ]
  },
  {
   "cell_type": "code",
   "execution_count": null,
   "id": "5aea5ebb",
   "metadata": {},
   "outputs": [],
   "source": [
    "data = pd.read_csv(r\"C:\\Users\\JOE\\Documents\\Imarticus Training Materials\\Emotion-based-music-recommendation-system-main\\Emotion-based-music-recommendation-system-main\\fer2013.csv\")"
   ]
  },
  {
   "cell_type": "code",
   "execution_count": null,
   "id": "ec597d00",
   "metadata": {},
   "outputs": [],
   "source": [
    "data"
   ]
  },
  {
   "cell_type": "code",
   "execution_count": null,
   "id": "ac19a70f",
   "metadata": {},
   "outputs": [],
   "source": [
    "data.shape"
   ]
  },
  {
   "cell_type": "code",
   "execution_count": null,
   "id": "b915ed15",
   "metadata": {},
   "outputs": [],
   "source": [
    "data.isnull().sum()"
   ]
  },
  {
   "cell_type": "code",
   "execution_count": null,
   "id": "05f049b4",
   "metadata": {
    "scrolled": true
   },
   "outputs": [],
   "source": [
    "data.head()"
   ]
  },
  {
   "cell_type": "markdown",
   "id": "d553f22a",
   "metadata": {},
   "source": [
    "## Data Preprocessing"
   ]
  },
  {
   "cell_type": "code",
   "execution_count": null,
   "id": "0a2d16a3",
   "metadata": {},
   "outputs": [],
   "source": [
    "data.dtypes"
   ]
  },
  {
   "cell_type": "code",
   "execution_count": null,
   "id": "b86760fc",
   "metadata": {},
   "outputs": [],
   "source": [
    "data.info()"
   ]
  },
  {
   "cell_type": "markdown",
   "id": "1bf80adb",
   "metadata": {},
   "source": [
    "### Determining the  Output class labels"
   ]
  },
  {
   "cell_type": "code",
   "execution_count": null,
   "id": "7516f1c8",
   "metadata": {},
   "outputs": [],
   "source": [
    "CLASS_LABELS  = ['Anger', 'Disgust', 'Fear', 'Happy', 'Neutral', 'Sadness', \"Surprise\"]\n",
    "fig = px.bar(x = CLASS_LABELS,\n",
    "             y = [list(data['emotion']).count(i) for i in np.unique(data['emotion'])] , \n",
    "             color = np.unique(data['emotion']) ,\n",
    "             color_continuous_scale=\"Emrld\") \n",
    "fig.update_xaxes(title=\"Emotions\")\n",
    "fig.update_yaxes(title = \"Number of Images\")\n",
    "fig.update_layout(showlegend = True,\n",
    "    title = {\n",
    "        'text': 'Train Data Distribution ',\n",
    "        'y':0.95,\n",
    "        'x':0.5,\n",
    "        'xanchor': 'center',\n",
    "        'yanchor': 'top'})\n",
    "fig.show()"
   ]
  },
  {
   "cell_type": "code",
   "execution_count": null,
   "id": "f75254e2",
   "metadata": {},
   "outputs": [],
   "source": [
    "data = data.sample(frac=1)"
   ]
  },
  {
   "cell_type": "markdown",
   "id": "f6e56133",
   "metadata": {},
   "source": [
    "### One Hot Encoding\n",
    "Then, we will do one hot encoding operation to change the categorical labels as numeric labels to learning algorithm can work better in predictions process."
   ]
  },
  {
   "cell_type": "code",
   "execution_count": null,
   "id": "103b8bdd",
   "metadata": {},
   "outputs": [],
   "source": [
    "labels = to_categorical(data[['emotion']], num_classes=7)"
   ]
  },
  {
   "cell_type": "markdown",
   "id": "ca508b6a",
   "metadata": {},
   "source": [
    "### Splitting the Data into train data"
   ]
  },
  {
   "cell_type": "code",
   "execution_count": null,
   "id": "2af17336",
   "metadata": {},
   "outputs": [],
   "source": [
    "train_pixels = data[\"pixels\"].astype(str).str.split(\" \").tolist()\n",
    "train_pixels = np.uint8(train_pixels)"
   ]
  },
  {
   "cell_type": "code",
   "execution_count": null,
   "id": "d2bcfe4d",
   "metadata": {},
   "outputs": [],
   "source": [
    "pixels = train_pixels.reshape((35887*2304,1))"
   ]
  },
  {
   "cell_type": "markdown",
   "id": "dc22f691",
   "metadata": {},
   "source": [
    "### Standardization"
   ]
  },
  {
   "cell_type": "markdown",
   "id": "a088cff1",
   "metadata": {},
   "source": [
    "## We will change the data structure to feed the standart scaler to implement standardization process to our data. Since StandartScaler() function only takes 2 dimensional array we will reshape the data then apply our scaler to make the mean zero and standart deviation as unit."
   ]
  },
  {
   "cell_type": "code",
   "execution_count": null,
   "id": "664a929f",
   "metadata": {},
   "outputs": [],
   "source": [
    "from sklearn.preprocessing import StandardScaler\n",
    "scaler = StandardScaler()\n",
    "pixels = scaler.fit_transform(pixels)"
   ]
  },
  {
   "cell_type": "markdown",
   "id": "dafb9d25",
   "metadata": {},
   "source": [
    "## After that, we will reshape the data to make our image pixels ready to split operation."
   ]
  },
  {
   "cell_type": "code",
   "execution_count": null,
   "id": "f6b79740",
   "metadata": {},
   "outputs": [],
   "source": [
    "pixels = train_pixels.reshape((35887, 48, 48,1))"
   ]
  },
  {
   "cell_type": "markdown",
   "id": "4d0c941c",
   "metadata": {},
   "source": [
    "### Reshaping the data (48,48)"
   ]
  },
  {
   "cell_type": "markdown",
   "id": "04199a4d",
   "metadata": {},
   "source": [
    "# Now, we have 35887 images with each containing 48x48 pixels. We will split the data into train,test and Validation data to feed and evaluate and validate our data with the ratio of 10%."
   ]
  },
  {
   "cell_type": "markdown",
   "id": "7e2a0a73",
   "metadata": {},
   "source": [
    "### Splitting the Data Test data "
   ]
  },
  {
   "cell_type": "code",
   "execution_count": null,
   "id": "29e1b886",
   "metadata": {},
   "outputs": [],
   "source": [
    "X_train, X_test, y_train, y_test = train_test_split(pixels, labels, test_size=0.1, shuffle=False)\n",
    "X_train, X_val, y_train, y_val = train_test_split(X_train, y_train, test_size=0.1, shuffle=False)"
   ]
  },
  {
   "cell_type": "code",
   "execution_count": null,
   "id": "5102bc61",
   "metadata": {},
   "outputs": [],
   "source": [
    "print(X_train.shape)\n",
    "print(X_test.shape)\n",
    "print(X_val.shape)"
   ]
  },
  {
   "cell_type": "markdown",
   "id": "08f9227c",
   "metadata": {},
   "source": [
    "## Analysing the Emotions based upon the Dataset Image Pixels"
   ]
  },
  {
   "cell_type": "code",
   "execution_count": null,
   "id": "58b2323f",
   "metadata": {},
   "outputs": [],
   "source": [
    "plt.figure(figsize=(15,23))\n",
    "label_dict = {0 : 'Angry', 1 : 'Disgust', 2 : 'Fear', 3 : 'Happiness', 4 : 'Sad', 5 : 'Surprise', 6 : 'Neutral'}\n",
    "i = 1\n",
    "for i in range (7):\n",
    "    img = np.squeeze(X_train[i])\n",
    "    plt.subplot(1,7,i+1)\n",
    "    plt.imshow(img)\n",
    "    index = np.argmax(y_train[i])\n",
    "    plt.title(label_dict[index])\n",
    "    plt.axis('off')\n",
    "    i += 1\n",
    "plt.show()"
   ]
  },
  {
   "cell_type": "markdown",
   "id": "a5123e29",
   "metadata": {},
   "source": [
    "### Data augmentation using ImageDataGenerator\n",
    "We can do data augmentation to have more data to train and validate our model to prevent overfitting. Data augmentation can be done on training and validation sets as it helps the model become more generalize(comfortable) and robust"
   ]
  },
  {
   "cell_type": "code",
   "execution_count": null,
   "id": "aebcf1d6",
   "metadata": {},
   "outputs": [],
   "source": [
    "datagen = ImageDataGenerator(  width_shift_range = 0.1,\n",
    "                               height_shift_range = 0.1,\n",
    "                               horizontal_flip = True,\n",
    "                               zoom_range = 0.2)\n",
    "valgen = ImageDataGenerator(   width_shift_range = 0.1,\n",
    "                               height_shift_range = 0.1,\n",
    "                               horizontal_flip = True,\n",
    "                               zoom_range = 0.2) "
   ]
  },
  {
   "cell_type": "code",
   "execution_count": null,
   "id": "a1db41e7",
   "metadata": {},
   "outputs": [],
   "source": [
    "datagen.fit(X_train)\n",
    "valgen.fit(X_val)"
   ]
  },
  {
   "cell_type": "code",
   "execution_count": null,
   "id": "39bce985",
   "metadata": {},
   "outputs": [],
   "source": [
    "train_generator = datagen.flow(X_train, y_train, batch_size=64)\n",
    "val_generator = datagen.flow(X_val, y_val, batch_size=64)"
   ]
  },
  {
   "cell_type": "markdown",
   "id": "dd065337",
   "metadata": {},
   "source": [
    "# Building the CNN MODEL "
   ]
  },
  {
   "cell_type": "markdown",
   "id": "5881259c",
   "metadata": {},
   "source": [
    "\"\"\"RELU : The rectified linear activation function or ReLU for short is a piecewise linear function that will output the input directly if it is positive, \n",
    "otherwise, it will output zero.\"\"\"\n",
    "## MaxPooling2D : Max pooling is a pooling operation that selects the maximum element from the region of the feature map covered by the filter.\n",
    "\n",
    "## Dropout is a technique where randomly selected neurons are ignored during training.\n",
    "\n",
    "## Softmax : It is mainly used to normalize neural networks output to fit between zero and one."
   ]
  },
  {
   "cell_type": "code",
   "execution_count": null,
   "id": "a3a5ce55",
   "metadata": {},
   "outputs": [],
   "source": [
    "def cnn_model():\n",
    "\n",
    "  model= tf.keras.models.Sequential()\n",
    "  model.add(Conv2D(32, kernel_size=(3, 3), padding='same', activation='relu', input_shape=(48, 48,1)))\n",
    "  model.add(Conv2D(64,(3,3), padding='same', activation='relu' ))\n",
    "  model.add(BatchNormalization())\n",
    "  model.add(MaxPool2D(pool_size=(2, 2)))\n",
    "  model.add(Dropout(0.25))\n",
    "\n",
    "  model.add(Conv2D(128,(5,5), padding='same', activation='relu'))\n",
    "  model.add(BatchNormalization())\n",
    "  model.add(MaxPool2D(pool_size=(2, 2)))\n",
    "  model.add(Dropout(0.25))\n",
    "      \n",
    "  model.add(Conv2D(512,(3,3), padding='same', activation='relu', kernel_regularizer=regularizers.l2(0.01)))\n",
    "  model.add(BatchNormalization())\n",
    "  model.add(MaxPool2D(pool_size=(2, 2)))\n",
    "  model.add(Dropout(0.25))\n",
    "\n",
    "  model.add(Conv2D(512,(3,3), padding='same', activation='relu', kernel_regularizer=regularizers.l2(0.01)))\n",
    "  model.add(BatchNormalization())\n",
    "  model.add(MaxPool2D(pool_size=(2, 2)))\n",
    "  model.add(Dropout(0.25))\n",
    "\n",
    "  model.add(Conv2D(512,(3,3), padding='same', activation='relu', kernel_regularizer=regularizers.l2(0.01)))\n",
    "  model.add(BatchNormalization())\n",
    "  model.add(MaxPool2D(pool_size=(2, 2)))\n",
    "  model.add(Dropout(0.25))\n",
    "\n",
    "  model.add(Flatten()) \n",
    "  model.add(Dense(256,activation = 'relu'))\n",
    "  model.add(BatchNormalization())\n",
    "  model.add(Dropout(0.25))\n",
    "      \n",
    "  model.add(Dense(512,activation = 'relu'))\n",
    "  model.add(BatchNormalization())\n",
    "  model.add(Dropout(0.25))\n",
    "\n",
    "  model.add(Dense(7, activation='softmax'))\n",
    "  model.compile(\n",
    "  optimizer = Adam(lr=0.0001), \n",
    "  loss='categorical_crossentropy', \n",
    "  metrics=['accuracy'])\n",
    "  return model"
   ]
  },
  {
   "cell_type": "code",
   "execution_count": null,
   "id": "5d2433ff",
   "metadata": {},
   "outputs": [],
   "source": [
    "model=cnn_model()"
   ]
  },
  {
   "cell_type": "markdown",
   "id": "daf327a9",
   "metadata": {},
   "source": [
    "## Model.compile is related to training your model. Actually, your weights need to optimize and this function can optimize them. In a way that your accuracy make increases. This was just one of the input parameters called 'optimizer'."
   ]
  },
  {
   "cell_type": "code",
   "execution_count": null,
   "id": "5d8e8fd5",
   "metadata": {},
   "outputs": [],
   "source": [
    "model.compile(\n",
    "    optimizer = Adam(lr=0.0001), \n",
    "    loss='categorical_crossentropy', \n",
    "    metrics=['accuracy'])"
   ]
  },
  {
   "cell_type": "code",
   "execution_count": null,
   "id": "1e621a9d",
   "metadata": {},
   "outputs": [],
   "source": [
    "model.summary()"
   ]
  },
  {
   "cell_type": "markdown",
   "id": "4f06c5a5",
   "metadata": {},
   "source": [
    "## Early stopping\n",
    "Adding checkpointer to implement Early Stopping to prevent overfitting."
   ]
  },
  {
   "cell_type": "code",
   "execution_count": null,
   "id": "560620af",
   "metadata": {},
   "outputs": [],
   "source": [
    "checkpointer = [EarlyStopping(monitor = 'val_accuracy', verbose = 1, \n",
    "                              restore_best_weights=True,mode=\"max\",patience = 5),\n",
    "                ModelCheckpoint('best_model.h5',monitor=\"val_accuracy\",verbose=1,\n",
    "                                save_best_only=True,mode=\"max\")]"
   ]
  },
  {
   "cell_type": "markdown",
   "id": "eaf63b7c",
   "metadata": {},
   "source": [
    "### Fitting the Model to get the trained data models"
   ]
  },
  {
   "cell_type": "code",
   "execution_count": null,
   "id": "563db142",
   "metadata": {},
   "outputs": [],
   "source": [
    "history = model.fit(train_generator,\n",
    "                    epochs=5,\n",
    "                    batch_size=64,   \n",
    "                    verbose=1,\n",
    "                    callbacks=[checkpointer],\n",
    "                    validation_data=val_generator)"
   ]
  },
  {
   "cell_type": "code",
   "execution_count": null,
   "id": "513b61fe",
   "metadata": {},
   "outputs": [],
   "source": [
    "model.save('model1.h5')"
   ]
  },
  {
   "cell_type": "code",
   "execution_count": null,
   "id": "9515b2ba",
   "metadata": {},
   "outputs": [],
   "source": [
    "model = tf.keras.models.load_model('model1.h5')"
   ]
  },
  {
   "cell_type": "code",
   "execution_count": null,
   "id": "9216acbe",
   "metadata": {},
   "outputs": [],
   "source": [
    "plt.plot(history.history[\"loss\"],'r', label=\"Training Loss\")\n",
    "plt.plot(history.history[\"val_loss\"],'b', label=\"Validation Loss\")\n",
    "plt.legend()"
   ]
  },
  {
   "cell_type": "code",
   "execution_count": null,
   "id": "fed58656",
   "metadata": {},
   "outputs": [],
   "source": [
    "plt.plot(history.history[\"accuracy\"],'r',label=\"Training Accuracy\")\n",
    "plt.plot(history.history[\"val_accuracy\"],'b',label=\"Validation Accuracy\")\n",
    "plt.legend()"
   ]
  },
  {
   "cell_type": "code",
   "execution_count": null,
   "id": "ce202e6e",
   "metadata": {},
   "outputs": [],
   "source": [
    "loss = model.evaluate(X_test,y_test) \n",
    "print(\"Test Acc: \" + str(loss[1]))"
   ]
  },
  {
   "cell_type": "code",
   "execution_count": null,
   "id": "a4437d10",
   "metadata": {},
   "outputs": [],
   "source": [
    "preds = model.predict(X_test)\n",
    "y_pred = np.argmax(preds , axis = 1 )"
   ]
  },
  {
   "cell_type": "code",
   "execution_count": null,
   "id": "0b11142a",
   "metadata": {
    "scrolled": true
   },
   "outputs": [],
   "source": [
    "label_dict = {0 : 'Angry', 1 : 'Disgust', 2 : 'Fear', 3 : 'Happiness', 4 : 'Sad', 5 : 'Surprise', 6 : 'Neutral'}\n",
    "\n",
    "figure = plt.figure(figsize=(20, 8))\n",
    "for i, index in enumerate(np.random.choice(X_test.shape[0], size=24, replace=False)):\n",
    "    ax = figure.add_subplot(4, 6, i + 1, xticks=[], yticks=[])\n",
    "    ax.imshow(np.squeeze(X_test[index]))\n",
    "    predict_index = label_dict[(y_pred[index])]\n",
    "    true_index = label_dict[np.argmax(y_test,axis=1)[index]]\n",
    "    \n",
    "    ax.set_title(\"{} ({})\".format((predict_index), \n",
    "                                  (true_index)),\n",
    "                                  color=(\"green\" if predict_index == true_index else \"red\"))"
   ]
  },
  {
   "cell_type": "code",
   "execution_count": null,
   "id": "21d65c14",
   "metadata": {
    "scrolled": false
   },
   "outputs": [],
   "source": [
    "CLASS_LABELS  = ['Anger', 'Disgust', 'Fear', 'Happy', 'Neutral', 'Sadness', \"Surprise\"]\n",
    "\n",
    "cm_data = confusion_matrix(np.argmax(y_test, axis = 1 ), y_pred)\n",
    "cm = pd.DataFrame(cm_data, columns=CLASS_LABELS, index = CLASS_LABELS)\n",
    "cm.index.name = 'Actual'\n",
    "cm.columns.name = 'Predicted'\n",
    "plt.figure(figsize = (15,10))\n",
    "plt.title('Confusion Matrix', fontsize = 20)\n",
    "sns.set(font_scale=1.2)\n",
    "ax = sns.heatmap(cm, cbar=False, cmap=\"Blues\", annot=True, annot_kws={\"size\": 16}, fmt='g')"
   ]
  },
  {
   "cell_type": "code",
   "execution_count": null,
   "id": "f8a520a6",
   "metadata": {},
   "outputs": [],
   "source": [
    "from sklearn.metrics import classification_report\n",
    "print(classification_report(np.argmax(y_test, axis = 1 ),y_pred,digits=3))"
   ]
  },
  {
   "cell_type": "code",
   "execution_count": null,
   "id": "2189ce88",
   "metadata": {},
   "outputs": [],
   "source": [
    "plt.plot(history.history[\"loss\"],'r', label=\"Training Loss\")\n",
    "plt.plot(history.history[\"val_loss\"],'b', label=\"Validation Loss\")\n",
    "plt.legend()"
   ]
  },
  {
   "cell_type": "code",
   "execution_count": null,
   "id": "5a207912",
   "metadata": {},
   "outputs": [],
   "source": [
    "plt.plot(history.history[\"accuracy\"],'r',label=\"Training Accuracy\")\n",
    "plt.plot(history.history[\"val_accuracy\"],'b',label=\"Validation Accuracy\")\n",
    "plt.legend()"
   ]
  },
  {
   "cell_type": "markdown",
   "id": "6f7f216d",
   "metadata": {},
   "source": [
    "# Loading weights from pretrained model"
   ]
  },
  {
   "cell_type": "code",
   "execution_count": null,
   "id": "8a1535d9",
   "metadata": {},
   "outputs": [],
   "source": [
    "model.load_weights('model1.h5')"
   ]
  },
  {
   "cell_type": "code",
   "execution_count": null,
   "id": "7b5c73db",
   "metadata": {},
   "outputs": [],
   "source": [
    "emotion_dict = {0: \"Angry\", 1: \"Disgusted\", 2: \"Fearful\", 3: \"Happy\", 4: \"Neutral\", 5: \"Sad\", 6: \"Surprised\"}"
   ]
  },
  {
   "cell_type": "markdown",
   "id": "1eeec543",
   "metadata": {},
   "source": [
    "# Not Attach OpenCL context to OpenCV. "
   ]
  },
  {
   "cell_type": "code",
   "execution_count": null,
   "id": "59478cd6",
   "metadata": {},
   "outputs": [],
   "source": [
    "cv2.ocl.setUseOpenCL(False)\n",
    "# return video from the first webcam on your computer.\n",
    "cap = cv2.VideoCapture(0)"
   ]
  },
  {
   "cell_type": "markdown",
   "id": "be0c2355",
   "metadata": {},
   "source": [
    "# Return video from the first webcam on your computer."
   ]
  },
  {
   "cell_type": "code",
   "execution_count": null,
   "id": "23ccf54c",
   "metadata": {},
   "outputs": [],
   "source": [
    "cap = cv2.VideoCapture(0)"
   ]
  },
  {
   "cell_type": "markdown",
   "id": "2cca2c7e",
   "metadata": {},
   "source": [
    "# Text or heading's"
   ]
  },
  {
   "cell_type": "code",
   "execution_count": null,
   "id": "56bbd83b",
   "metadata": {},
   "outputs": [],
   "source": [
    "st.markdown(\"<h2 style='text-align: center; color: white;'><b>Emotion based music recommendation</b></h2>\", unsafe_allow_html=True)\n",
    "st.markdown(\"<h5 style='text-align: center; color: grey;'><b>Click on the name of recommended song to reach website</b></h5>\", unsafe_allow_html=True)"
   ]
  },
  {
   "cell_type": "code",
   "execution_count": null,
   "id": "dcbbdb5b",
   "metadata": {},
   "outputs": [],
   "source": [
    "\n",
    "\n",
    "    while True:\n",
    "        # Find haar cascade to draw bounding box around face\n",
    "        ret, frame = cap.read()\n",
    "        if not ret:\n",
    "            break\n",
    "        facecasc = cv2.CascadeClassifier('haarcascade_frontalface_default.xml')\n",
    "        gray = cv2.cvtColor(frame, cv2.COLOR_BGR2GRAY)\n",
    "        faces = facecasc.detectMultiScale(gray,scaleFactor=1.3, minNeighbors=5)\n",
    "\n",
    "        for (x, y, w, h) in faces:\n",
    "            cv2.rectangle(frame, (x, y-50), (x+w, y+h+10), (255, 0, 0), 2)\n",
    "            roi_gray = gray[y:y + h, x:x + w]\n",
    "            cropped_img = np.expand_dims(np.expand_dims(cv2.resize(roi_gray, (48, 48)), -1), 0)\n",
    "            prediction = model.predict(cropped_img)\n",
    "            maxindex = int(np.argmax(prediction))\n",
    "            cv2.putText(frame, emotion_dict[maxindex], (x+20, y-60), cv2.FONT_HERSHEY_SIMPLEX, 1, (255, 255, 255), 2, cv2.LINE_AA)\n",
    "\n",
    "        cv2.imshow('Video', cv2.resize(frame,(1600,960),interpolation = cv2.INTER_CUBIC))\n",
    "        if cv2.waitKey(1) & 0xFF == ord('q'):\n",
    "            break\n",
    "\n",
    "    cap.release()\n",
    "    cv2.destroyAllWindows()"
   ]
  },
  {
   "cell_type": "markdown",
   "id": "f6cf2694",
   "metadata": {},
   "source": [
    "# Just for separation"
   ]
  },
  {
   "cell_type": "code",
   "execution_count": null,
   "id": "746afcb6",
   "metadata": {},
   "outputs": [],
   "source": [
    "st.write(\"\")\n",
    "\n",
    "# Normal text\n",
    "st.markdown(\"<h5 style='text-align: center; color: grey;'><b>Recommended song's with artist names</b></h5>\", unsafe_allow_html=True)\n",
    "\n",
    "# Just for separation\n",
    "st.write(\"---------------------------------------------------------------------------------------------------------------------\")\n",
    "\n",
    "try:\n",
    "    # l = iterator over link column in dataframe\n",
    "    # a = iterator over artist column in dataframe\n",
    "    # i = iterator from (0 to 30)\n",
    "    # n = iterator over name column in dataframe\n",
    "    for l,a,n,i in zip(new_df[\"link\"],new_df['artist'],new_df['name'],range(30)):\n",
    "\n",
    "        # Recommended song name\n",
    "        st.markdown(\"\"\"<h4 style='text-align: center;'><a href={}>{} - {}</a></h4>\"\"\".format(l,i+1,n),unsafe_allow_html=True)\n",
    "\n",
    "        # Artist name\n",
    "        st.markdown(\"<h5 style='text-align: center; color: grey;'><i>{}</i></h5>\".format(a), unsafe_allow_html=True)\n",
    "\n",
    "        # Just for separation\n",
    "        st.write(\"---------------------------------------------------------------------------------------------------------------------\")\n",
    "except:\n",
    "    pass\n"
   ]
  }
 ],
 "metadata": {
  "kernelspec": {
   "display_name": "Python 3 (ipykernel)",
   "language": "python",
   "name": "python3"
  },
  "language_info": {
   "codemirror_mode": {
    "name": "ipython",
    "version": 3
   },
   "file_extension": ".py",
   "mimetype": "text/x-python",
   "name": "python",
   "nbconvert_exporter": "python",
   "pygments_lexer": "ipython3",
   "version": "3.9.7"
  }
 },
 "nbformat": 4,
 "nbformat_minor": 5
}
